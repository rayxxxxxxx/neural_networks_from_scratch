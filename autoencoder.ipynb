{
 "cells": [
  {
   "cell_type": "code",
   "execution_count": 1,
   "metadata": {},
   "outputs": [],
   "source": [
    "from pathlib import Path\n",
    "\n",
    "import numpy as np\n",
    "from numba import njit, prange\n",
    "\n",
    "from matplotlib import pyplot as plt"
   ]
  },
  {
   "cell_type": "markdown",
   "metadata": {},
   "source": [
    "### Load data"
   ]
  },
  {
   "cell_type": "code",
   "execution_count": 2,
   "metadata": {},
   "outputs": [
    {
     "data": {
      "image/png": "[encoded data removed]",
      "text/plain": [
       "<Figure size 1500x750 with 10 Axes>"
      ]
     },
     "metadata": {},
     "output_type": "display_data"
    }
   ],
   "source": [
    "img_shape = (7, 5)\n",
    "img_size = 35\n",
    "\n",
    "data_path = Path('/mnt/HDD500GB/Data/development/jupyterLab/data/numbers_7x5.txt')\n",
    "data_mtrx = np.loadtxt(data_path)\n",
    "\n",
    "fig, axes = plt.subplots(nrows=1, ncols=10)\n",
    "\n",
    "fig.set_dpi(150)\n",
    "fig.set_figwidth(10)\n",
    "fig.set_figheight(5)\n",
    "\n",
    "for n, ax in zip(data_mtrx, axes.ravel()):\n",
    "    ax.imshow(n.reshape(img_shape), cmap='binary_r')\n",
    "    ax.set_xticks([])\n",
    "    ax.set_yticks([])\n",
    "\n",
    "plt.tight_layout()\n",
    "plt.show()"
   ]
  },
  {
   "cell_type": "markdown",
   "metadata": {},
   "source": [
    "### Generate dataset"
   ]
  },
  {
   "cell_type": "code",
   "execution_count": 3,
   "metadata": {},
   "outputs": [],
   "source": [
    "dataset = []\n",
    "noise_size = 0.25\n",
    "\n",
    "for i in range(len(data_mtrx)):\n",
    "    dataset.append(data_mtrx[i])\n",
    "\n",
    "    for j in range(9):\n",
    "        noise = np.random.uniform(0, noise_size, img_size)\n",
    "        dataset.append(data_mtrx[i] + noise)\n",
    "\n",
    "dataset = np.array(dataset)"
   ]
  },
  {
   "cell_type": "markdown",
   "metadata": {},
   "source": [
    "### Split dataset to test and train"
   ]
  },
  {
   "cell_type": "code",
   "execution_count": 4,
   "metadata": {},
   "outputs": [],
   "source": [
    "test_frac = 0.2\n",
    "\n",
    "p = np.arange(10)\n",
    "\n",
    "test_size = int(p.size * test_frac)\n",
    "train_size = int(p.size * (1 - test_frac))\n",
    "\n",
    "idx_test = np.ravel([(p[0:test_size] + i * 10) for i in range(10)])\n",
    "idx_train = np.ravel([(p[test_size:p.size] + i * 10) for i in range(10)])\n",
    "\n",
    "x_test = dataset[idx_test]\n",
    "x_tarin = dataset[idx_train]"
   ]
  },
  {
   "cell_type": "markdown",
   "metadata": {},
   "source": [
    "### Define activation functions"
   ]
  },
  {
   "cell_type": "code",
   "execution_count": 5,
   "metadata": {},
   "outputs": [],
   "source": [
    "@njit(fastmath=True)\n",
    "def ReLU(x: np.ndarray) -> np.ndarray:\n",
    "    return np.maximum(np.zeros(x.shape), x)\n",
    "\n",
    "\n",
    "@njit(fastmath=True)\n",
    "def dRelu(x: np.ndarray) -> np.ndarray:\n",
    "    return 1 * (x > 0)\n",
    "\n",
    "\n",
    "@njit(fastmath=True)\n",
    "def sigmoid(x: np.ndarray) -> np.ndarray:\n",
    "    return 1 / (1 + np.exp(-x))\n",
    "\n",
    "\n",
    "@njit(fastmath=True)\n",
    "def dSigmoid(x: np.ndarray) -> np.ndarray:\n",
    "    y = 1 / (1 + np.exp(-x))\n",
    "    return y * (1 - y)"
   ]
  },
  {
   "cell_type": "markdown",
   "metadata": {},
   "source": [
    "### Define model"
   ]
  },
  {
   "cell_type": "code",
   "execution_count": 6,
   "metadata": {},
   "outputs": [],
   "source": [
    "@njit(fastmath=True)\n",
    "def grads(xbatch: np.ndarray, Wh: np.ndarray, Bh: np.ndarray, w: np.ndarray, b: np.ndarray) -> tuple[np.ndarray]:\n",
    "    dWh = np.zeros(Wh.shape)\n",
    "    dBh = np.zeros(Bh.shape)\n",
    "\n",
    "    dw = np.zeros(w.shape)\n",
    "    db = np.zeros(b.shape)\n",
    "\n",
    "    for i in prange(xbatch.shape[0]):\n",
    "        h = Wh @ xbatch[i] + Bh\n",
    "        z = sigmoid(h)\n",
    "        y = w @ z + b\n",
    "\n",
    "        dw += np.outer(2 * (y - xbatch[i]), z)\n",
    "        db += 2 * (y - xbatch[i])\n",
    "\n",
    "        dWh += np.outer(w.T @ (2 * (y - xbatch[i])) * dSigmoid(h), xbatch[i])\n",
    "        dBh += w.T @ (2 * (y - xbatch[i])) * dSigmoid(h)\n",
    "\n",
    "    return (dWh, dBh, dw, db)\n",
    "\n",
    "class Perceptron:\n",
    "    def __init__(self, nIn: int, nHidden: int, nOut: int) -> None:\n",
    "        self.nIn = nIn\n",
    "        self.nHidden = nHidden\n",
    "        self.nOut = nOut\n",
    "        \n",
    "        self.Wh: np.ndarray = np.random.uniform(-1, 1, (nHidden, nIn))\n",
    "        self.w: np.ndarray = np.random.uniform(-1, 1, (nOut, nHidden))\n",
    "        \n",
    "        self.Bh: np.ndarray = np.zeros((nHidden,))\n",
    "        self.b: np.ndarray = np.zeros((nOut,))\n",
    "\n",
    "    def predict(self, x:np.ndarray) -> np.ndarray:\n",
    "        z = sigmoid(self.Wh @ x + self.Bh)\n",
    "        return self.w @ z + self.b\n",
    "\n",
    "    def loss(self, x: np.ndarray) -> float:        \n",
    "        xpred = np.array([self.predict(xi) for xi in x])\n",
    "        h = np.linalg.norm(xpred - x, axis=1)\n",
    "        return np.mean(h)\n",
    "\n",
    "    def train(self, xTrain: np.ndarray, lr, batch_size, max_epoch) -> None:\n",
    "        n = xTrain.shape[0]\n",
    "\n",
    "        for epoch in range(max_epoch):\n",
    "            idxs = np.random.permutation(n)\n",
    "\n",
    "            for i in range(n // batch_size):\n",
    "                ibegin = i * batch_size\n",
    "                iend = min((i + 1) * batch_size, n - 1)\n",
    "                batch_idxs = idxs[ibegin:iend]\n",
    "\n",
    "                dWh, dBh, dw, db = grads(xTrain[batch_idxs], self.Wh, self.Bh, self.w, self.b)\n",
    "\n",
    "                self.Wh -= lr * dWh\n",
    "                self.Bh -= lr * dBh\n",
    "                \n",
    "                self.w -= lr * dw\n",
    "                self.b -= lr * db"
   ]
  },
  {
   "cell_type": "markdown",
   "metadata": {},
   "source": [
    "### Create and train model"
   ]
  },
  {
   "cell_type": "code",
   "execution_count": 7,
   "metadata": {},
   "outputs": [
    {
     "name": "stdout",
     "output_type": "stream",
     "text": [
      "untrained loss:  7.735\n",
      "trained loss:  0.649\n"
     ]
    }
   ],
   "source": [
    "nIn = 35\n",
    "nHidden = 10\n",
    "nOut = 35\n",
    "\n",
    "learning_rate = 1e-2\n",
    "batch_size = 8\n",
    "max_epoch = 300\n",
    "\n",
    "model = Perceptron(nIn, nHidden, nOut)\n",
    "\n",
    "print('untrained loss: ', model.loss(x_test).round(3))\n",
    "\n",
    "model.train(\n",
    "    x_tarin,\n",
    "    learning_rate,\n",
    "    batch_size,\n",
    "    max_epoch\n",
    ")\n",
    "\n",
    "print('trained loss: ', model.loss(x_test).round(3))"
   ]
  },
  {
   "cell_type": "markdown",
   "metadata": {},
   "source": [
    "### Visualize model predictions"
   ]
  },
  {
   "cell_type": "code",
   "execution_count": 8,
   "metadata": {},
   "outputs": [
    {
     "data": {
      "image/png": "[encoded data removed]",
      "text/plain": [
       "<Figure size 1500x500 with 10 Axes>"
      ]
     },
     "metadata": {},
     "output_type": "display_data"
    },
    {
     "data": {
      "image/png": "[encoded data removed]",
      "text/plain": [
       "<Figure size 1500x500 with 10 Axes>"
      ]
     },
     "metadata": {},
     "output_type": "display_data"
    }
   ],
   "source": [
    "noise_size = 0.5\n",
    "x_noised = list([xi + np.random.uniform(0, noise_size, img_size) for xi in data_mtrx])\n",
    "xpred = list([model.predict(xi) for xi in x_noised])\n",
    "\n",
    "fig1, axes1 = plt.subplots(nrows=1, ncols=10)\n",
    "fig2, axes2 = plt.subplots(nrows=1, ncols=10)\n",
    "\n",
    "fig1.set_dpi(100)\n",
    "fig1.set_figwidth(15)\n",
    "fig1.set_figheight(5)\n",
    "\n",
    "fig2.set_dpi(100)\n",
    "fig2.set_figwidth(15)\n",
    "fig2.set_figheight(5)\n",
    "\n",
    "for i, ax in enumerate(axes1.ravel()):\n",
    "    ax.imshow(x_noised[i].reshape(img_shape),  cmap='binary_r')\n",
    "    ax.set_xticks([])\n",
    "    ax.set_yticks([])\n",
    "\n",
    "for i, ax in enumerate(axes2.ravel()):\n",
    "    ax.imshow(xpred[i].reshape(img_shape),  cmap='binary_r')\n",
    "    ax.set_xticks([])\n",
    "    ax.set_yticks([])\n",
    "\n",
    "plt.tight_layout()\n",
    "plt.show()"
   ]
  }
 ],
 "metadata": {
  "kernelspec": {
   "display_name": "jupyter-venv",
   "language": "python",
   "name": "python3"
  },
  "language_info": {
   "codemirror_mode": {
    "name": "ipython",
    "version": 3
   },
   "file_extension": ".py",
   "mimetype": "text/x-python",
   "name": "python",
   "nbconvert_exporter": "python",
   "pygments_lexer": "ipython3",
   "version": "3.10.12"
  }
 },
 "nbformat": 4,
 "nbformat_minor": 2
}
