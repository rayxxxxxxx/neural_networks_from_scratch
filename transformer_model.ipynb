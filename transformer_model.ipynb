{
 "cells": [
  {
   "cell_type": "code",
   "execution_count": 299,
   "metadata": {},
   "outputs": [],
   "source": [
    "import string\n",
    "import numpy as np"
   ]
  },
  {
   "cell_type": "code",
   "execution_count": 300,
   "metadata": {},
   "outputs": [],
   "source": [
    "def one_hot(n_classes: int, idx: int) -> np.ndarray:\n",
    "    embedding = np.zeros(n_classes)\n",
    "    embedding[idx] = 1.0\n",
    "    return embedding\n",
    "\n",
    "\n",
    "def word2seq(word: str, alphabet: list) -> np.ndarray:\n",
    "    return np.array([one_hot(len(alphabet), alphabet.index(c)) for c in word])\n",
    "\n",
    "\n",
    "def seq2word(seq: np.ndarray, alphabet: list) -> str:\n",
    "    return ''.join([alphabet[np.argmax(x)] for x in seq])"
   ]
  },
  {
   "cell_type": "code",
   "execution_count": 301,
   "metadata": {},
   "outputs": [
    {
     "name": "stdout",
     "output_type": "stream",
     "text": [
      "95 abcdefghijklmnopqrstuvwxyzABCDEFGHIJKLMNOPQRSTUVWXYZ !\"#$%&'()*+,-./:;<=>?@[\\]^_`{|}~0123456789\n"
     ]
    }
   ],
   "source": [
    "alphabet = string.ascii_letters + \" \" + string.punctuation + string.digits\n",
    "n_symbols = len(alphabet)\n",
    "print(n_symbols, alphabet)"
   ]
  },
  {
   "cell_type": "code",
   "execution_count": 302,
   "metadata": {},
   "outputs": [],
   "source": [
    "def ReLU(x: np.ndarray) -> np.ndarray:\n",
    "    return 1.0 * (x > 0)\n",
    "\n",
    "\n",
    "def softmax(x: np.ndarray) -> np.ndarray:\n",
    "    y = np.exp(x)\n",
    "    return y / np.sum(y)"
   ]
  },
  {
   "cell_type": "code",
   "execution_count": 303,
   "metadata": {},
   "outputs": [],
   "source": [
    "def self_attention(Wq: np.ndarray, Wk: np.ndarray, Wv: np.ndarray, X: np.ndarray) -> np.ndarray:\n",
    "    Q, K, V = X @ Wq, X @ Wk, X @ Wv\n",
    "    A = (Q @ K.T) / np.sqrt(Wq.shape[1])\n",
    "    A = np.apply_along_axis(softmax, 0, A)\n",
    "    return A @ V"
   ]
  },
  {
   "cell_type": "code",
   "execution_count": null,
   "metadata": {},
   "outputs": [],
   "source": [
    "class Transformer:\n",
    "    def __init__(self, emb_size: int, k_size: int, n_h: int, n_out) -> None:\n",
    "        self.Wq: np.ndarray = np.random.uniform(-1, 1, (emb_size, k_size))\n",
    "        self.Wk: np.ndarray = np.random.uniform(-1, 1, (emb_size, k_size))\n",
    "        self.Wv: np.ndarray = np.random.uniform(-1, 1, (emb_size, emb_size))\n",
    "\n",
    "        self.U: np.ndarray = np.random.uniform(-1, 1, (emb_size, n_h))\n",
    "        self.V: np.ndarray = np.random.uniform(-1, 1, (n_h, emb_size))\n",
    "\n",
    "        self.W: np.ndarray = np.random.uniform(-1, 1, (n_out, emb_size))\n",
    "        self.b: np.ndarray = np.zeros(n_out)\n",
    "\n",
    "    def forward(self, X: np.ndarray) -> np.ndarray:\n",
    "        X = X + self_attention(self.Wq, self.Wk, self.Wv, X)\n",
    "        X = X + ReLU(X @ self.U) @ self.V\n",
    "        return softmax(self.W @ X[-1] + self.b)"
   ]
  },
  {
   "cell_type": "code",
   "execution_count": 308,
   "metadata": {},
   "outputs": [
    {
     "name": "stdout",
     "output_type": "stream",
     "text": [
      "the quick brown fox jumps over the lazy dog\n",
      ";8zPzPsP;sQ8zP6;;;;;XXzPBA8zPBA8zP~C6zP6zP6z6C8zZ88z6r{CE~r{C(Xz6rz6r{8sP~r{8z6r{8z8sP88z8Z8ZCrz8Z8Z\n"
     ]
    }
   ],
   "source": [
    "emb_size = n_symbols\n",
    "k_size = 8\n",
    "n_h = 128\n",
    "n_out = n_symbols\n",
    "\n",
    "model = Transformer(emb_size, k_size, n_h, n_out)\n",
    "\n",
    "in_text = 'the quick brown fox jumps over the lazy dog'\n",
    "out_text = ''\n",
    "\n",
    "sequence = word2seq(in_text, alphabet)\n",
    "\n",
    "for i in range(100):\n",
    "    probs = model.forward(sequence)\n",
    "    next_token = one_hot(n_symbols, np.random.choice(range(n_symbols), 1, p=probs))\n",
    "    out_text += alphabet[np.argmax(probs)]\n",
    "    sequence = np.vstack((sequence, next_token))\n",
    "\n",
    "print(in_text)\n",
    "print(out_text)"
   ]
  }
 ],
 "metadata": {
  "kernelspec": {
   "display_name": ".venv",
   "language": "python",
   "name": "python3"
  },
  "language_info": {
   "codemirror_mode": {
    "name": "ipython",
    "version": 3
   },
   "file_extension": ".py",
   "mimetype": "text/x-python",
   "name": "python",
   "nbconvert_exporter": "python",
   "pygments_lexer": "ipython3",
   "version": "3.12.8"
  }
 },
 "nbformat": 4,
 "nbformat_minor": 2
}
