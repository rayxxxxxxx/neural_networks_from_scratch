{
 "cells": [
  {
   "cell_type": "markdown",
   "metadata": {},
   "source": [
    "## Multilayer facet compound eye inspired CNN model (version 1)"
   ]
  },
  {
   "cell_type": "code",
   "execution_count": 60,
   "metadata": {},
   "outputs": [],
   "source": [
    "from pathlib import Path\n",
    "\n",
    "import numpy as np\n",
    "from numba import njit"
   ]
  },
  {
   "cell_type": "markdown",
   "metadata": {},
   "source": [
    "### Load data"
   ]
  },
  {
   "cell_type": "code",
   "execution_count": 61,
   "metadata": {},
   "outputs": [],
   "source": [
    "img_size = 784\n",
    "img_width = 28\n",
    "img_shape = (28, 28)\n",
    "\n",
    "train_data = np.loadtxt(Path('/mnt/HDD500GB/Data/development/jupyterLab/data/mnist_train_small.csv'), delimiter=',')\n",
    "test_data = np.loadtxt(Path('/mnt/HDD500GB/Data/development/jupyterLab/data/mnist_test.csv'), delimiter=',')\n",
    "\n",
    "n_train_samples = train_data.shape[0]\n",
    "n_test_samples = test_data.shape[0]"
   ]
  },
  {
   "cell_type": "markdown",
   "metadata": {},
   "source": [
    "### Generate dataset"
   ]
  },
  {
   "cell_type": "code",
   "execution_count": 62,
   "metadata": {},
   "outputs": [],
   "source": [
    "def one_hot(n: int, idx: int) -> np.ndarray:\n",
    "    q = np.zeros(n)\n",
    "    q[idx] = 1.0\n",
    "    return q"
   ]
  },
  {
   "cell_type": "code",
   "execution_count": 63,
   "metadata": {},
   "outputs": [],
   "source": [
    "x_train = train_data[:,1:] / 255.0\n",
    "y_train = np.array([one_hot(10, int(i)) for i in train_data[:,0]])\n",
    "\n",
    "x_test = test_data[:,1:] / 255.0\n",
    "y_test = np.array([one_hot(10, int(i)) for i in test_data[:,0]])"
   ]
  },
  {
   "cell_type": "markdown",
   "metadata": {},
   "source": [
    "### Transform data to 2D shape"
   ]
  },
  {
   "cell_type": "code",
   "execution_count": 64,
   "metadata": {},
   "outputs": [],
   "source": [
    "x_train_tmp = np.zeros((n_train_samples, img_width, img_width))\n",
    "x_test_tmp = np.zeros((n_test_samples, img_width, img_width))\n",
    "\n",
    "for i in range(n_train_samples):\n",
    "    x_train_tmp[i] = x_train[i].reshape(img_shape)\n",
    "\n",
    "for i in range(n_test_samples):\n",
    "    x_test_tmp[i] = x_test[i].reshape(img_shape)\n",
    "\n",
    "x_train = x_train_tmp\n",
    "x_test = x_test_tmp"
   ]
  },
  {
   "cell_type": "markdown",
   "metadata": {},
   "source": [
    "### Define activation functions"
   ]
  },
  {
   "cell_type": "code",
   "execution_count": 65,
   "metadata": {},
   "outputs": [],
   "source": [
    "@njit(fastmath=True)\n",
    "def relu(x: np.ndarray) -> np.ndarray:\n",
    "    return np.maximum(np.zeros(x.shape), x)\n",
    "\n",
    "\n",
    "@njit(fastmath=True)\n",
    "def d_relu(x: np.ndarray) -> np.ndarray:\n",
    "    return 1 * (x > 0)\n",
    "\n",
    "\n",
    "@njit(fastmath=True)\n",
    "def sigmoid(x: np.ndarray) -> np.ndarray:\n",
    "    return 1 / (1 + np.exp(-x))\n",
    "\n",
    "\n",
    "@njit(fastmath=True)\n",
    "def d_sigmoid(x: np.ndarray) -> np.ndarray:\n",
    "    y = 1 / (1 + np.exp(-x))\n",
    "    return y * (1 - y)\n",
    "\n",
    "\n",
    "@njit(fastmath=True)\n",
    "def softmax(x: np.ndarray) -> np.ndarray:\n",
    "    y = np.exp(x)\n",
    "    return y / np.sum(y)"
   ]
  },
  {
   "cell_type": "markdown",
   "metadata": {},
   "source": [
    "### Define model"
   ]
  },
  {
   "cell_type": "code",
   "execution_count": 122,
   "metadata": {},
   "outputs": [],
   "source": [
    "@njit(fastmath=True)\n",
    "def conv(x: np.ndarray, K: np.ndarray, d: np.ndarray, kernel_size: int, i: int, j: int) -> float:\n",
    "    i_pad = i * kernel_size\n",
    "    j_pad = j * kernel_size\n",
    "    \n",
    "    z = 0\n",
    "\n",
    "    for ii in range(kernel_size):\n",
    "        for jj in range(kernel_size):\n",
    "            z += K[ii][jj] * x[i_pad+ii][j_pad+jj]\n",
    "    \n",
    "    return z + d\n",
    "\n",
    "\n",
    "@njit(fastmath=True)\n",
    "def convolution(x: np.ndarray, K: np.ndarray, d: np.ndarray, n_kernels: int, kernel_size) -> np.ndarray:\n",
    "    z = np.zeros(n_kernels**2)\n",
    "\n",
    "    for i in range(n_kernels):\n",
    "        for j in range(n_kernels):\n",
    "            idx = n_kernels * i + j\n",
    "            z[idx] = conv(x, K[idx], d[idx], kernel_size, i, j)\n",
    "    \n",
    "    return z\n",
    "\n",
    "\n",
    "@njit(fastmath=True)\n",
    "def grads(x_batch: np.ndarray, y_batch: np.ndarray, K: np.ndarray, d:np.ndarray, W: np.ndarray, b: np.ndarray, n_kernels: int, kernel_size: int) -> tuple[np.ndarray]:\n",
    "    dK = np.zeros(K.shape)\n",
    "    dd = np.zeros(d.shape)\n",
    "\n",
    "    dW = np.zeros(W.shape)\n",
    "    db = np.zeros(b.shape)\n",
    "\n",
    "    v = np.zeros((K.shape[0], K.shape[1]))\n",
    "    dvdc = np.zeros((K.shape[0], K.shape[1]))\n",
    "\n",
    "    u = np.zeros(W.shape[1])\n",
    "\n",
    "    for i in range(x_batch.shape[0]):\n",
    "        u *= 0\n",
    "\n",
    "        for l in range(K.shape[0]):\n",
    "            c = convolution(x_batch[i], K[l], d[l], n_kernels, kernel_size)\n",
    "            v[l] = relu(c)\n",
    "            dvdc[l] = d_relu(c)\n",
    "        \n",
    "        for l in range(K.shape[0]):\n",
    "            u += W[l] @ v[l]\n",
    "        \n",
    "        z = u + b\n",
    "        y = softmax(z)\n",
    "\n",
    "        dLdz = y - y_batch[i]\n",
    "\n",
    "        for l in range(K.shape[0]):\n",
    "            dW[l] += np.outer(dLdz, v[l])\n",
    "\n",
    "        db += dLdz\n",
    "\n",
    "        for l in range(K.shape[0]):\n",
    "            dLdv = W[l].T @ dLdz\n",
    "\n",
    "            for j in range(n_kernels):\n",
    "                j_pad = j * kernel_size\n",
    "\n",
    "                for k in range(n_kernels):\n",
    "                    k_pad = k * kernel_size\n",
    "\n",
    "                    idx = n_kernels * j + k\n",
    "\n",
    "                    dLdc = dLdv[idx] * dvdc[l][idx]\n",
    "\n",
    "                    dK[l][idx] += dLdc * x_batch[i, j_pad:j_pad+kernel_size, k_pad:k_pad+kernel_size]\n",
    "                    dd[l][idx] += dLdc\n",
    "\n",
    "    return (dK, dd, dW, db)\n",
    "\n",
    "\n",
    "class ConvolutionalNeuralNetwork:\n",
    "    def __init__(self, img_width: int, n_layers: int, n_kernels: int, n_out: int) -> None:\n",
    "        self.img_width = img_width\n",
    "        self.n_layers = n_layers\n",
    "        self.n_kernels = n_kernels\n",
    "        self.kernel_size = img_width // n_kernels\n",
    "        self.n_out = n_out\n",
    "\n",
    "        self.K: np.ndarray = np.random.uniform(-1, 1, (n_layers ,n_kernels**2, self.kernel_size, self.kernel_size))\n",
    "        self.d: np.ndarray = np.zeros((n_layers, n_kernels**2))\n",
    "\n",
    "        self.W: np.ndarray = np.random.uniform(-1, 1, (n_layers ,n_out, n_kernels**2))\n",
    "        self.b: np.ndarray = np.zeros(n_out)\n",
    "\n",
    "    def predict(self, x: np.ndarray) -> np.ndarray:\n",
    "        z = np.zeros(self.n_out)\n",
    "\n",
    "        for i in range(self.n_layers):\n",
    "            c = convolution(x, self.K[i], self.d[i], self.n_kernels, self.kernel_size)\n",
    "            v = relu(c)\n",
    "            u = self.W[i] @ v\n",
    "            z += u\n",
    "        \n",
    "        return softmax(z + self.b)\n",
    "\n",
    "    def loss(self, x: np.ndarray, y: np.ndarray) -> float:\n",
    "        ypred = np.array([self.predict(xi) for xi in x])\n",
    "        h = -np.mean(y * np.log(ypred), axis=1)\n",
    "        return np.mean(h)\n",
    "\n",
    "    def train(self, x_train: np.ndarray, y_train: np.ndarray, lr, batch_size, max_epoch) -> None:\n",
    "        n = x_train.shape[0]\n",
    "\n",
    "        for epoch in range(max_epoch):\n",
    "            idxs = np.random.permutation(n)\n",
    "            n_batches = n // batch_size\n",
    "\n",
    "            for i in range(n_batches):\n",
    "                ibegin = i * batch_size\n",
    "                iend = min((i + 1) * batch_size, n - 1)\n",
    "                batch_idxs = idxs[ibegin:iend]\n",
    "\n",
    "                dK, dd, dW, db = grads(x_train[batch_idxs], y_train[batch_idxs], self.K, self.d, self.W, self.b, self.n_kernels, self.kernel_size)\n",
    "\n",
    "                self.K -= lr * dK\n",
    "                self.d -= lr * dd\n",
    "\n",
    "                self.W -= lr * dW\n",
    "                self.b -= lr * db"
   ]
  },
  {
   "cell_type": "markdown",
   "metadata": {},
   "source": [
    "### Create and train model"
   ]
  },
  {
   "cell_type": "code",
   "execution_count": 123,
   "metadata": {},
   "outputs": [
    {
     "name": "stdout",
     "output_type": "stream",
     "text": [
      "untrained loss:  0.5262\n",
      "trained loss:  0.0252\n",
      "test set accuracy: 92.83%\n"
     ]
    }
   ],
   "source": [
    "img_width = 28\n",
    "n_layers = 3\n",
    "n_kernels = 7\n",
    "n_out = 10\n",
    "\n",
    "learning_rate = 1e-2\n",
    "batch_size = 64\n",
    "max_epoch = 8\n",
    "\n",
    "model = ConvolutionalNeuralNetwork(img_width, n_layers, n_kernels, n_out)\n",
    "\n",
    "print('untrained loss: ', model.loss(x_test, y_test).round(4))\n",
    "\n",
    "model.train(x_train, y_train, learning_rate, batch_size, max_epoch)\n",
    "\n",
    "print('trained loss: ', model.loss(x_test, y_test).round(4))\n",
    "\n",
    "n_true_pos = 0\n",
    "\n",
    "for x, y in zip(x_test, y_test):\n",
    "    ypred = model.predict(x)\n",
    "    n_true_pos += 1 if np.argmax(ypred) == np.argmax(y) else 0\n",
    "\n",
    "accuracy = n_true_pos / x_test.shape[0]\n",
    "print(f\"test set accuracy: {round(accuracy * 100, 2)}%\")"
   ]
  },
  {
   "cell_type": "code",
   "execution_count": 126,
   "metadata": {},
   "outputs": [
    {
     "name": "stdout",
     "output_type": "stream",
     "text": [
      "model size: 3979\n",
      "total weights: 3822\n",
      "total biases: 157\n"
     ]
    }
   ],
   "source": [
    "n_weights = model.K.size + model.W.size\n",
    "n_biases = model.d.size + model.b.size\n",
    "model_size = n_weights + n_biases\n",
    "\n",
    "print(f'model size: {model_size}')\n",
    "print(f'total weights: {n_weights}')\n",
    "print(f'total biases: {n_biases}')"
   ]
  },
  {
   "cell_type": "markdown",
   "metadata": {},
   "source": [
    "### Visualize mean classes convolution features"
   ]
  },
  {
   "cell_type": "code",
   "execution_count": 90,
   "metadata": {},
   "outputs": [],
   "source": [
    "from matplotlib import pyplot as plt"
   ]
  },
  {
   "cell_type": "code",
   "execution_count": 127,
   "metadata": {},
   "outputs": [],
   "source": [
    "kernel_size = img_width // n_kernels\n",
    "classes_conv_features = np.zeros((n_out, n_layers, n_kernels**2))\n",
    "\n",
    "\n",
    "for i in range(10):\n",
    "    x = [xi for (xi, yi) in zip(x_train, y_train) if np.argmax(yi) == i]\n",
    "    x = np.array(x)\n",
    "\n",
    "    for l in range(n_layers):\n",
    "        v = np.array([relu(convolution(xi, model.K[l], model.d[l], n_kernels, kernel_size)) for xi in x])\n",
    "        classes_conv_features[i, l] = np.mean(v, axis=0)"
   ]
  },
  {
   "cell_type": "code",
   "execution_count": 128,
   "metadata": {},
   "outputs": [
    {
     "data": {
      "image/png": "[encoded data removed]",
      "text/plain": [
       "<Figure size 1200x400 with 30 Axes>"
      ]
     },
     "metadata": {},
     "output_type": "display_data"
    }
   ],
   "source": [
    "fig, axes = plt.subplots(nrows=n_layers, ncols=n_out)\n",
    "fig.set_dpi(100)\n",
    "fig.set_figwidth(12)\n",
    "fig.set_figheight(4)\n",
    "\n",
    "for i in range(n_out):\n",
    "    for j in range(n_layers):\n",
    "        ax = axes[j][i]\n",
    "        f = classes_conv_features[i][j]\n",
    "        img = ax.matshow(f.reshape((n_kernels, n_kernels)), cmap='viridis')\n",
    "\n",
    "plt.tight_layout()\n",
    "plt.show()"
   ]
  }
 ],
 "metadata": {
  "kernelspec": {
   "display_name": "Python 3 (ipykernel)",
   "language": "python",
   "name": "python3"
  },
  "language_info": {
   "codemirror_mode": {
    "name": "ipython",
    "version": 3
   },
   "file_extension": ".py",
   "mimetype": "text/x-python",
   "name": "python",
   "nbconvert_exporter": "python",
   "pygments_lexer": "ipython3",
   "version": "3.10.12"
  }
 },
 "nbformat": 4,
 "nbformat_minor": 4
}
