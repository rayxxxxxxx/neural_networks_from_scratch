{
 "cells": [
  {
   "cell_type": "code",
   "execution_count": 109,
   "metadata": {},
   "outputs": [],
   "source": [
    "from pathlib import Path\n",
    "\n",
    "import numpy as np\n",
    "from numba import njit"
   ]
  },
  {
   "cell_type": "markdown",
   "metadata": {},
   "source": [
    "### Load data"
   ]
  },
  {
   "cell_type": "code",
   "execution_count": 110,
   "metadata": {},
   "outputs": [],
   "source": [
    "img_size = 784\n",
    "img_width = 28\n",
    "img_shape = (28, 28)\n",
    "\n",
    "train_data = np.loadtxt(Path('/mnt/HDD500GB/Data/development/jupyterLab/data/mnist_train_small.csv'), delimiter=',')\n",
    "test_data = np.loadtxt(Path('/mnt/HDD500GB/Data/development/jupyterLab/data/mnist_test.csv'), delimiter=',')\n",
    "\n",
    "n_train_samples = train_data.shape[0]\n",
    "n_test_samples = test_data.shape[0]"
   ]
  },
  {
   "cell_type": "markdown",
   "metadata": {},
   "source": [
    "### Generate dataset"
   ]
  },
  {
   "cell_type": "code",
   "execution_count": 111,
   "metadata": {},
   "outputs": [],
   "source": [
    "def one_hot(n: int, idx: int) -> np.ndarray:\n",
    "    q = np.zeros(n)\n",
    "    q[idx] = 1.0\n",
    "    return q"
   ]
  },
  {
   "cell_type": "code",
   "execution_count": 112,
   "metadata": {},
   "outputs": [],
   "source": [
    "x_train = train_data[:,1:] / 255.0\n",
    "y_train = np.array([one_hot(10, int(i)) for i in train_data[:,0]])\n",
    "\n",
    "x_test = test_data[:,1:] / 255.0\n",
    "y_test = np.array([one_hot(10, int(i)) for i in test_data[:,0]])"
   ]
  },
  {
   "cell_type": "markdown",
   "metadata": {},
   "source": [
    "### Transform data to 2D shape"
   ]
  },
  {
   "cell_type": "code",
   "execution_count": 113,
   "metadata": {},
   "outputs": [],
   "source": [
    "x_train_tmp = np.zeros((n_train_samples, img_width, img_width))\n",
    "x_test_tmp = np.zeros((n_test_samples, img_width, img_width))\n",
    "\n",
    "for i in range(n_train_samples):\n",
    "    x_train_tmp[i] = x_train[i].reshape(img_shape)\n",
    "\n",
    "for i in range(n_test_samples):\n",
    "    x_test_tmp[i] = x_test[i].reshape(img_shape)\n",
    "\n",
    "x_train = x_train_tmp\n",
    "x_test = x_test_tmp"
   ]
  },
  {
   "cell_type": "markdown",
   "metadata": {},
   "source": [
    "### Define activation functions"
   ]
  },
  {
   "cell_type": "code",
   "execution_count": 114,
   "metadata": {},
   "outputs": [],
   "source": [
    "@njit(fastmath=True)\n",
    "def ReLU(x: np.ndarray) -> np.ndarray:\n",
    "    return np.maximum(np.zeros(x.shape), x)\n",
    "\n",
    "\n",
    "@njit(fastmath=True)\n",
    "def dReLU(x: np.ndarray) -> np.ndarray:\n",
    "    return 1 * (x > 0)\n",
    "\n",
    "\n",
    "@njit(fastmath=True)\n",
    "def sigmoid(x: np.ndarray) -> np.ndarray:\n",
    "    return 1 / (1 + np.exp(-x))\n",
    "\n",
    "\n",
    "@njit(fastmath=True)\n",
    "def dSigmoid(x: np.ndarray) -> np.ndarray:\n",
    "    y = 1 / (1 + np.exp(-x))\n",
    "    return y * (1 - y)\n",
    "\n",
    "\n",
    "@njit(fastmath=True)\n",
    "def softmax(x: np.ndarray) -> np.ndarray:\n",
    "    y = np.exp(x)\n",
    "    return y / np.sum(y)"
   ]
  },
  {
   "cell_type": "markdown",
   "metadata": {},
   "source": [
    "### Define model"
   ]
  },
  {
   "cell_type": "code",
   "execution_count": 144,
   "metadata": {},
   "outputs": [],
   "source": [
    "@njit(fastmath=True)\n",
    "def conv(x: np.ndarray, V: np.ndarray, c: np.ndarray, kernel_size: int, i: int, j: int) -> float:\n",
    "    i_pad = i * kernel_size\n",
    "    j_pad = j * kernel_size\n",
    "    \n",
    "    z = 0\n",
    "\n",
    "    for ii in range(kernel_size):\n",
    "        for jj in range(kernel_size):\n",
    "            z += V[ii][jj] * x[i_pad+ii][j_pad+jj]\n",
    "    \n",
    "    return z + c\n",
    "\n",
    "\n",
    "@njit(fastmath=True)\n",
    "def convolution(x: np.ndarray, V: np.ndarray, c: np.ndarray, n_kernels: int, kernel_size) -> np.ndarray:\n",
    "    z = np.zeros(n_kernels**2)\n",
    "\n",
    "    for i in range(n_kernels):\n",
    "        for j in range(n_kernels):\n",
    "            idx = n_kernels * i + j\n",
    "            z[idx] = conv(x, V[idx], c[idx], kernel_size, i, j)\n",
    "    \n",
    "    return z\n",
    "\n",
    "\n",
    "@njit(fastmath=True)\n",
    "def grads(x_batch: np.ndarray, y_batch: np.ndarray, V: np.ndarray, c:np.ndarray, W: np.ndarray, b: np.ndarray, n_kernels: int, kernel_size: int) -> tuple[np.ndarray]:\n",
    "    dV = np.zeros(V.shape)\n",
    "    dc = np.zeros(c.shape)\n",
    "\n",
    "    dW = np.zeros(W.shape)\n",
    "    db = np.zeros(b.shape)\n",
    "\n",
    "    for i in range(x_batch.shape[0]):\n",
    "        u = convolution(x_batch[i], V, c, n_kernels, kernel_size)\n",
    "        z = sigmoid(u)\n",
    "        y = softmax(W @ z + b)\n",
    "\n",
    "        dLdy = y - y_batch[i]\n",
    "        dLdz = W.T @ dLdy\n",
    "\n",
    "        dzdu = dSigmoid(u)\n",
    "\n",
    "        for j in range(n_kernels):\n",
    "            j_pad = j * kernel_size\n",
    "\n",
    "            for k in range(n_kernels):\n",
    "                k_pad = k * kernel_size\n",
    "\n",
    "                idx = n_kernels * j + k\n",
    "\n",
    "                dV[idx] += x_batch[i, j_pad:j_pad+kernel_size, k_pad:k_pad+kernel_size] * dLdz[idx] * dzdu[idx]\n",
    "                dc[idx] += dLdz[idx]\n",
    "\n",
    "        dW += np.outer(dLdy, z)\n",
    "        db += dLdy\n",
    "\n",
    "    return (dV, dc, dW, db)\n",
    "\n",
    "\n",
    "class ConvolutionalNeuralNetwork:\n",
    "    def __init__(self, img_width: int, n_kernels: int, n_out: int) -> None:\n",
    "        self.img_width = img_width\n",
    "        self.n_kernels = n_kernels\n",
    "        self.kernel_size = img_width // n_kernels\n",
    "        self.n_out = n_out\n",
    "\n",
    "        self.V: np.ndarray = np.random.uniform(-1, 1, (n_kernels**2, self.kernel_size, self.kernel_size))\n",
    "        self.c: np.ndarray = np.zeros(n_kernels**2)\n",
    "\n",
    "        self.W: np.ndarray = np.random.uniform(-1, 1, (n_out, n_kernels**2))\n",
    "        self.b: np.ndarray = np.zeros(n_out)\n",
    "\n",
    "    def predict(self, x: np.ndarray) -> np.ndarray:\n",
    "        z = sigmoid(convolution(x, self.V, self.c, self.n_kernels, self.kernel_size))\n",
    "        return softmax(self.W @ z + self.b)\n",
    "\n",
    "    def loss(self, x: np.ndarray, y: np.ndarray) -> float:\n",
    "        ypred = np.array([self.predict(xi) for xi in x])\n",
    "        h = -np.mean(y * np.log(ypred), axis=1)\n",
    "        return np.mean(h)\n",
    "\n",
    "    def train(self, x_train: np.ndarray, y_train: np.ndarray, lr, batch_size, max_epoch) -> None:\n",
    "        n = x_train.shape[0]\n",
    "\n",
    "        for epoch in range(max_epoch):\n",
    "            idxs = np.random.permutation(n)\n",
    "            n_batches = n // batch_size\n",
    "\n",
    "            for i in range(n_batches):\n",
    "                ibegin = i * batch_size\n",
    "                iend = min((i + 1) * batch_size, n - 1)\n",
    "                batch_idxs = idxs[ibegin:iend]\n",
    "\n",
    "                dV, dc, dW, db = grads(x_train[batch_idxs], y_train[batch_idxs], self.V, self.c, self.W, self.b, self.n_kernels, self.kernel_size)\n",
    "\n",
    "                self.V -= lr * dV\n",
    "                self.c -= lr * dc\n",
    "\n",
    "                self.W -= lr * dW\n",
    "                self.b -= lr * db"
   ]
  },
  {
   "cell_type": "markdown",
   "metadata": {},
   "source": [
    "### Create and train model"
   ]
  },
  {
   "cell_type": "code",
   "execution_count": 161,
   "metadata": {},
   "outputs": [
    {
     "name": "stdout",
     "output_type": "stream",
     "text": [
      "untrained loss:  0.421\n",
      "trained loss:  0.0432\n",
      "test set accuracy: 86.94%\n"
     ]
    }
   ],
   "source": [
    "img_width = 28\n",
    "n_kernels = 7\n",
    "n_out = 10\n",
    "\n",
    "learning_rate = 1e-2\n",
    "batch_size = 64\n",
    "max_epoch = 8\n",
    "\n",
    "model = ConvolutionalNeuralNetwork(img_width, n_kernels, n_out)\n",
    "\n",
    "print('untrained loss: ', model.loss(x_test, y_test).round(4))\n",
    "\n",
    "model.train(x_train, y_train, learning_rate, batch_size, max_epoch)\n",
    "\n",
    "print('trained loss: ', model.loss(x_test, y_test).round(4))\n",
    "\n",
    "n_true_pos = 0\n",
    "\n",
    "for x, y in zip(x_test, y_test):\n",
    "    ypred = model.predict(x)\n",
    "    n_true_pos += 1 if np.argmax(ypred) == np.argmax(y) else 0\n",
    "\n",
    "accuracy = n_true_pos / x_test.shape[0]\n",
    "print(f\"test set accuracy: {round(accuracy * 100, 2)}%\")"
   ]
  },
  {
   "cell_type": "code",
   "execution_count": 162,
   "metadata": {},
   "outputs": [
    {
     "name": "stdout",
     "output_type": "stream",
     "text": [
      "model size: 1333\n",
      "total weights: 1274\n",
      "total biases: 59\n"
     ]
    }
   ],
   "source": [
    "n_weights = model.V.size + model.W.size\n",
    "n_biases = model.c.size + model.b.size\n",
    "model_size = n_weights + n_biases\n",
    "\n",
    "print(f'model size: {model_size}')\n",
    "print(f'total weights: {n_weights}')\n",
    "print(f'total biases: {n_biases}')"
   ]
  },
  {
   "cell_type": "markdown",
   "metadata": {},
   "source": [
    "### Visualize mean classes convolution features"
   ]
  },
  {
   "cell_type": "code",
   "execution_count": 163,
   "metadata": {},
   "outputs": [],
   "source": [
    "from matplotlib import pyplot as plt\n",
    "from mpl_toolkits.axes_grid1 import make_axes_locatable"
   ]
  },
  {
   "cell_type": "code",
   "execution_count": 164,
   "metadata": {},
   "outputs": [],
   "source": [
    "kernel_size = img_width // n_kernels\n",
    "classes_conv_features = []\n",
    "\n",
    "for i in range(10):\n",
    "    x = [xi for (xi, yi) in zip(x_train, y_train) if np.argmax(yi) == i]\n",
    "    x = np.array(x)\n",
    "\n",
    "    z = np.array([ReLU(convolution(xi, model.V, model.c, n_kernels, kernel_size)) for xi in x])\n",
    "    z = np.mean(z, axis=0)\n",
    "\n",
    "    classes_conv_features.append(z)\n",
    "\n",
    "classes_conv_features = np.array(classes_conv_features)"
   ]
  },
  {
   "cell_type": "code",
   "execution_count": 165,
   "metadata": {},
   "outputs": [
    {
     "data": {
      "image/png": "[encoded data removed]",
      "text/plain": [
       "<Figure size 1200x400 with 20 Axes>"
      ]
     },
     "metadata": {},
     "output_type": "display_data"
    }
   ],
   "source": [
    "fig, axes = plt.subplots(nrows=2, ncols=5)\n",
    "fig.set_dpi(100)\n",
    "fig.set_figwidth(12)\n",
    "fig.set_figheight(4)\n",
    "\n",
    "for i, ax in enumerate(axes.ravel()):\n",
    "    divider = make_axes_locatable(ax)\n",
    "    cax = divider.append_axes(\"right\", size=\"10%\", pad=0.1)\n",
    "\n",
    "    z = classes_conv_features[i]\n",
    "    img = ax.matshow(z.reshape((n_kernels, n_kernels)), cmap='viridis')\n",
    "\n",
    "    cbar = fig.colorbar(img, ax=ax, cax=cax)\n",
    "    cmin = round(np.min(z), 2)\n",
    "    cmax = round(np.max(z), 2)\n",
    "    cbar.set_ticks(np.linspace(cmin, cmax, 4))\n",
    "\n",
    "    ax.set_title(f'{i}\\'s mean features')\n",
    "\n",
    "plt.tight_layout()\n",
    "plt.show()"
   ]
  },
  {
   "cell_type": "markdown",
   "metadata": {},
   "source": [
    "### Classes convolution features similarity"
   ]
  },
  {
   "cell_type": "code",
   "execution_count": 166,
   "metadata": {},
   "outputs": [],
   "source": [
    "from math import sqrt"
   ]
  },
  {
   "cell_type": "code",
   "execution_count": 167,
   "metadata": {},
   "outputs": [],
   "source": [
    "def norm(x: np.ndarray) -> float:\n",
    "    return sqrt(np.sum(np.square(x)))\n",
    "\n",
    "\n",
    "def m_self_cosim(m: np.ndarray) -> np.ndarray:    \n",
    "    norms = np.apply_along_axis(norm, 1, m)\n",
    "    return (m @ m.T) / np.outer(norms, norms)"
   ]
  },
  {
   "cell_type": "code",
   "execution_count": 168,
   "metadata": {},
   "outputs": [
    {
     "data": {
      "image/png": "[encoded data removed]",
      "text/plain": [
       "<Figure size 600x600 with 2 Axes>"
      ]
     },
     "metadata": {},
     "output_type": "display_data"
    }
   ],
   "source": [
    "fetures_similarity = m_self_cosim(classes_conv_features)\n",
    "\n",
    "fig = plt.figure(1, figsize=(6, 6))\n",
    "ax = fig.add_subplot()\n",
    "\n",
    "img = ax.matshow(fetures_similarity, cmap='viridis')\n",
    "\n",
    "divider = make_axes_locatable(ax)\n",
    "cax = divider.append_axes(\"right\", size=\"10%\", pad=0.1)\n",
    "\n",
    "cbar = fig.colorbar(img, ax=ax, cax=cax)\n",
    "cmin = np.min(fetures_similarity)\n",
    "cmax = np.max(fetures_similarity)\n",
    "cbar.set_ticks(np.linspace(cmin, cmax, 5))\n",
    "\n",
    "plt.tight_layout()\n",
    "plt.show()"
   ]
  }
 ],
 "metadata": {
  "kernelspec": {
   "display_name": "Python 3 (ipykernel)",
   "language": "python",
   "name": "python3"
  },
  "language_info": {
   "codemirror_mode": {
    "name": "ipython",
    "version": 3
   },
   "file_extension": ".py",
   "mimetype": "text/x-python",
   "name": "python",
   "nbconvert_exporter": "python",
   "pygments_lexer": "ipython3",
   "version": "3.10.12"
  }
 },
 "nbformat": 4,
 "nbformat_minor": 4
}
