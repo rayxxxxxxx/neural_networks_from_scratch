{
 "cells": [
  {
   "cell_type": "code",
   "execution_count": 70,
   "metadata": {},
   "outputs": [],
   "source": [
    "import string\n",
    "import numpy as np"
   ]
  },
  {
   "cell_type": "code",
   "execution_count": 71,
   "metadata": {},
   "outputs": [],
   "source": [
    "def one_hot(n_classes: int, idx: int) -> np.ndarray:\n",
    "    embedding = np.zeros(n_classes)\n",
    "    embedding[idx] = 1.0\n",
    "    return embedding\n",
    "\n",
    "\n",
    "def word2seq(word: str, alphabet: list) -> np.ndarray:\n",
    "    return np.array([one_hot(len(alphabet), alphabet.index(c)) for c in word])\n",
    "\n",
    "\n",
    "def seq2word(seq: np.ndarray, alphabet: list) -> str:\n",
    "    return ''.join([alphabet[np.argmax(x)] for x in seq])"
   ]
  },
  {
   "cell_type": "code",
   "execution_count": 72,
   "metadata": {},
   "outputs": [
    {
     "name": "stdout",
     "output_type": "stream",
     "text": [
      "95 abcdefghijklmnopqrstuvwxyzABCDEFGHIJKLMNOPQRSTUVWXYZ !\"#$%&'()*+,-./:;<=>?@[\\]^_`{|}~0123456789\n"
     ]
    }
   ],
   "source": [
    "alphabet = string.ascii_letters + \" \" + string.punctuation + string.digits\n",
    "n_symbols = len(alphabet)\n",
    "print(n_symbols, alphabet)"
   ]
  },
  {
   "cell_type": "code",
   "execution_count": 73,
   "metadata": {},
   "outputs": [],
   "source": [
    "def softmax(x: np.ndarray) -> np.ndarray:\n",
    "    y = np.exp(x)\n",
    "    return y / np.sum(y)"
   ]
  },
  {
   "cell_type": "code",
   "execution_count": 74,
   "metadata": {},
   "outputs": [],
   "source": [
    "def calculate_attention(states: np.ndarray, context: np.ndarray) -> np.ndarray:\n",
    "    scores = softmax(states @ context)\n",
    "    values = scores.reshape((scores.size, 1)) * states\n",
    "    return np.sum(values, axis=0)"
   ]
  },
  {
   "cell_type": "code",
   "execution_count": 75,
   "metadata": {},
   "outputs": [],
   "source": [
    "class EncoderRNN:\n",
    "    def __init__(self, n_in: int, n_h: int) -> None:\n",
    "        self.U: np.ndarray = np.random.uniform(-1, 1, (n_h, n_in))\n",
    "        self.V: np.ndarray = np.random.uniform(-1, 1, (n_h, n_h))\n",
    "        self.d: np.ndarray = np.zeros(n_h)\n",
    "    \n",
    "    def forward(self, sequence: np.ndarray) -> tuple[np.ndarray]:\n",
    "        states: np.ndarray = np.zeros((len(sequence), self.d.size))\n",
    "        context: np.ndarray = np.zeros(len(self.V))\n",
    "\n",
    "        for i,x in enumerate(sequence):\n",
    "            context = np.tanh(self.U @ x + self.V @ context + self.d)\n",
    "            states[i] = context.copy()\n",
    "        \n",
    "        return (states, context)"
   ]
  },
  {
   "cell_type": "code",
   "execution_count": 76,
   "metadata": {},
   "outputs": [],
   "source": [
    "class DecoderRNN:\n",
    "    def __init__(self, n_h: int, n_out: int) -> None:\n",
    "        self.V: np.ndarray = np.random.uniform(-1, 1, (n_h, n_h))\n",
    "        self.d: np.ndarray = np.zeros(n_h)\n",
    "\n",
    "        self.W: np.ndarray = np.random.uniform(-1, 1, (n_out, 2*n_h))\n",
    "        self.b: np.ndarray = np.zeros(n_out)\n",
    "    \n",
    "    def forward(self, states: np.ndarray, context: np.ndarray, t: int) -> np.ndarray:\n",
    "        outputs = np.zeros((t, self.b.size))\n",
    "\n",
    "        for i in range(t):\n",
    "            context = np.tanh(self.V @ context + self.d)\n",
    "            attention = calculate_attention(states, context)\n",
    "            ctx_att = np.concat((context, attention), axis=0)\n",
    "            outputs[i] = softmax(self.W @ ctx_att + self.b)\n",
    "            \n",
    "        return outputs"
   ]
  },
  {
   "cell_type": "code",
   "execution_count": 82,
   "metadata": {},
   "outputs": [
    {
     "name": "stdout",
     "output_type": "stream",
     "text": [
      "kA~ufRJuDdVwV:~nB+:~\\GF<'f+<bz;^GfMSVF^5t]RcfG5/F^QtS vwVcR5$G!F5QvO5Gw]ysesR yt4GBtZ '/?' G-tJFQfT/J^SF]6vwVHf~lQ}VCqOf;fSSJ'?5\n"
     ]
    }
   ],
   "source": [
    "n_h = 32\n",
    "\n",
    "encoder = EncoderRNN(n_symbols, n_h)\n",
    "decoder = DecoderRNN(n_h, n_symbols)\n",
    "\n",
    "in_text = 'the quick brown fox jumps over the lazy dog'\n",
    "x = word2seq(in_text, alphabet)\n",
    "\n",
    "states, context = encoder.forward(x)\n",
    "output = decoder.forward(states, context, 128)\n",
    "\n",
    "out_text = seq2word(output, alphabet)\n",
    "print(out_text)"
   ]
  }
 ],
 "metadata": {
  "kernelspec": {
   "display_name": ".venv",
   "language": "python",
   "name": "python3"
  },
  "language_info": {
   "codemirror_mode": {
    "name": "ipython",
    "version": 3
   },
   "file_extension": ".py",
   "mimetype": "text/x-python",
   "name": "python",
   "nbconvert_exporter": "python",
   "pygments_lexer": "ipython3",
   "version": "3.12.8"
  }
 },
 "nbformat": 4,
 "nbformat_minor": 2
}
