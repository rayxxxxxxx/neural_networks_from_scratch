{
 "cells": [
  {
   "cell_type": "code",
   "execution_count": 9,
   "metadata": {},
   "outputs": [],
   "source": [
    "import string\n",
    "import numpy as np"
   ]
  },
  {
   "cell_type": "code",
   "execution_count": 10,
   "metadata": {},
   "outputs": [],
   "source": [
    "def one_hot(n_classes: int, idx: int) -> np.ndarray:\n",
    "    embedding = np.zeros(n_classes)\n",
    "    embedding[idx] = 1.0\n",
    "    return embedding\n",
    "\n",
    "\n",
    "def word2seq(word: str, alphabet: list) -> np.ndarray:\n",
    "    return np.array([one_hot(len(alphabet), alphabet.index(c)) for c in word])\n",
    "\n",
    "\n",
    "def seq2word(seq: np.ndarray, alphabet: list) -> str:\n",
    "    return ''.join([alphabet[np.argmax(x)] for x in seq])"
   ]
  },
  {
   "cell_type": "code",
   "execution_count": 34,
   "metadata": {},
   "outputs": [
    {
     "name": "stdout",
     "output_type": "stream",
     "text": [
      "abcdefghijklmnopqrstuvwxyzABCDEFGHIJKLMNOPQRSTUVWXYZ !\"#$%&'()*+,-./:;<=>?@[\\]^_`{|}~0123456789\n"
     ]
    }
   ],
   "source": [
    "alphabet = string.ascii_letters + \" \" + string.punctuation + string.digits\n",
    "n_symbols = len(alphabet)\n",
    "print(alphabet)"
   ]
  },
  {
   "cell_type": "code",
   "execution_count": 12,
   "metadata": {},
   "outputs": [],
   "source": [
    "def softmax(x: np.ndarray) -> np.ndarray:\n",
    "    y = np.exp(x)\n",
    "    return y / np.sum(y)"
   ]
  },
  {
   "cell_type": "code",
   "execution_count": null,
   "metadata": {},
   "outputs": [],
   "source": [
    "class EncoderRNN:\n",
    "    def __init__(self, n_in: int, n_h: int) -> None:\n",
    "        self.U: np.ndarray = np.random.uniform(-1, 1, (n_h, n_in))\n",
    "        self.V: np.ndarray = np.random.uniform(-1, 1, (n_h, n_h))\n",
    "        self.d: np.ndarray = np.zeros(n_h)\n",
    "    \n",
    "    def forward(self, sequence: np.ndarray) -> np.ndarray:\n",
    "        context = np.zeros(len(self.V))\n",
    "        for x in sequence:\n",
    "            context = np.tanh(self.U @ x + self.V @ context + self.d)\n",
    "        return context"
   ]
  },
  {
   "cell_type": "code",
   "execution_count": 14,
   "metadata": {},
   "outputs": [],
   "source": [
    "class DecoderRNN:\n",
    "    def __init__(self, n_in: int, n_h: int, n_out: int) -> None:\n",
    "        self.U: np.ndarray = np.random.uniform(-1, 1, (n_h, n_in))\n",
    "        self.V: np.ndarray = np.random.uniform(-1, 1, (n_h, n_h))\n",
    "        self.d: np.ndarray = np.zeros(n_h)\n",
    "\n",
    "        self.W: np.ndarray = np.random.uniform(-1, 1, (n_out, n_h))\n",
    "        self.b: np.ndarray = np.zeros(n_out)\n",
    "    \n",
    "    def forward(self, context: np.ndarray, t: int) -> np.ndarray:\n",
    "        outputs = np.zeros((t, self.b.size))\n",
    "        out = np.zeros(self.b.size)\n",
    "\n",
    "        for i in range(t):\n",
    "            context = np.tanh(self.U @ out + self.V @ context + self.d)\n",
    "            out = softmax(self.W @ context + self.b)\n",
    "            outputs[i] = out.copy()\n",
    "        \n",
    "        return outputs"
   ]
  },
  {
   "cell_type": "code",
   "execution_count": 33,
   "metadata": {},
   "outputs": [
    {
     "name": "stdout",
     "output_type": "stream",
     "text": [
      "C'^4l*lf@|*x8=flX8kI=fyX*2Lk8kXyid\\8x*-ac)R2}AK/qI|8xfka!Z8\\*/f'x8xUkfyXLkfka;|8kbl]@\\8xfWa'x}2}-fkf!^8kfyaa\"EEEEXgXbWvW.&2}2*-0\n"
     ]
    }
   ],
   "source": [
    "n_h = 32\n",
    "\n",
    "encoder = EncoderRNN(n_symbols, n_h)\n",
    "decoder = DecoderRNN(n_symbols, n_h, n_symbols)\n",
    "\n",
    "in_text = 'the quick brown fox jumps over the lazy dog'\n",
    "seq = word2seq(in_text, alphabet)\n",
    "\n",
    "context = encoder.forward(seq)\n",
    "output = decoder.forward(context, 128)\n",
    "\n",
    "out_text = seq2word(output, alphabet)\n",
    "print(out_text)"
   ]
  }
 ],
 "metadata": {
  "kernelspec": {
   "display_name": ".venv",
   "language": "python",
   "name": "python3"
  },
  "language_info": {
   "codemirror_mode": {
    "name": "ipython",
    "version": 3
   },
   "file_extension": ".py",
   "mimetype": "text/x-python",
   "name": "python",
   "nbconvert_exporter": "python",
   "pygments_lexer": "ipython3",
   "version": "3.12.8"
  }
 },
 "nbformat": 4,
 "nbformat_minor": 2
}
