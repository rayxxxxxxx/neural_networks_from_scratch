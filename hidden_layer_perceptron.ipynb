{
 "cells": [
  {
   "cell_type": "code",
   "execution_count": 1,
   "metadata": {},
   "outputs": [],
   "source": [
    "from pathlib import Path\n",
    "\n",
    "import numpy as np\n",
    "import pandas as pd\n",
    "from numba import njit, prange\n",
    "\n",
    "from matplotlib import pyplot as plt"
   ]
  },
  {
   "cell_type": "markdown",
   "metadata": {},
   "source": [
    "### Load data"
   ]
  },
  {
   "cell_type": "code",
   "execution_count": 2,
   "metadata": {},
   "outputs": [
    {
     "data": {
      "image/png": "[encoded data removed]",
      "text/plain": [
       "<Figure size 1500x750 with 10 Axes>"
      ]
     },
     "metadata": {},
     "output_type": "display_data"
    }
   ],
   "source": [
    "fig, axes = plt.subplots(nrows=1, ncols=10)\n",
    "\n",
    "fig.set_dpi(150)\n",
    "fig.set_figwidth(10)\n",
    "fig.set_figheight(5)\n",
    "\n",
    "nums_mtrx =  np.loadtxt(Path('data', 'numbers_5x3.txt'))\n",
    "\n",
    "for n, ax in zip(nums_mtrx, axes.ravel()):\n",
    "    ax.imshow(n.reshape(5, 3), cmap='binary_r')\n",
    "\n",
    "plt.tight_layout()\n",
    "plt.show()"
   ]
  },
  {
   "cell_type": "markdown",
   "metadata": {},
   "source": [
    "### Generate dataset"
   ]
  },
  {
   "cell_type": "code",
   "execution_count": 3,
   "metadata": {},
   "outputs": [],
   "source": [
    "cells_columns = [f'c{n}' for n in range(15)]\n",
    "classes = ['zero','one','two','three','four','five','six','seven','eight','nine']\n",
    "\n",
    "df = pd.DataFrame(columns=cells_columns+['class'])\n",
    "\n",
    "for i in range(10):\n",
    "    new_row = dict(zip(cells_columns, nums_mtrx[i]))\n",
    "    new_row['class'] = classes[i]\n",
    "    \n",
    "    df.loc[df.index.size] = new_row\n",
    "\n",
    "    for j in range(9):\n",
    "        noised_num = nums_mtrx[i] + np.random.uniform(0, 0.25, 15)\n",
    "        \n",
    "        new_row = dict(zip(cells_columns, noised_num))\n",
    "        new_row['class'] = classes[i]\n",
    "        \n",
    "        df.loc[df.index.size] = new_row\n",
    "\n",
    "for name in df['class'].unique():\n",
    "    df[f'{name}_label'] = df['class'].map(lambda x: 1 if x == name else 0)"
   ]
  },
  {
   "cell_type": "markdown",
   "metadata": {},
   "source": [
    "### Split dataset to test and train"
   ]
  },
  {
   "cell_type": "code",
   "execution_count": 4,
   "metadata": {},
   "outputs": [],
   "source": [
    "test_frac = 0.7\n",
    "\n",
    "p = np.arange(10)\n",
    "\n",
    "test_size = int(p.size*test_frac)\n",
    "train_size = int(p.size*(1-test_frac))\n",
    "\n",
    "idx_test = np.ravel([(p[0 : test_size] + i*10) for i in range(10)])\n",
    "idx_train = np.ravel([(p[test_size : p.size] + i*10) for i in range(10)])\n",
    "\n",
    "features_columns = cells_columns\n",
    "label_columns = [f\"{name}_label\" for name in classes]\n",
    "\n",
    "x_test = np.array(df.iloc[idx_test][features_columns])\n",
    "y_test = np.array(df.iloc[idx_test][label_columns])\n",
    "\n",
    "x_tarin = np.array(df.iloc[idx_train][features_columns])\n",
    "y_train = np.array(df.iloc[idx_train][label_columns])"
   ]
  },
  {
   "cell_type": "markdown",
   "metadata": {},
   "source": [
    "### Define activation functions"
   ]
  },
  {
   "cell_type": "code",
   "execution_count": 5,
   "metadata": {},
   "outputs": [],
   "source": [
    "@njit(fastmath=True)\n",
    "def relu(x: np.ndarray) -> np.ndarray:\n",
    "    return np.maximum(np.zeros(x.shape), x)\n",
    "\n",
    "\n",
    "@njit(fastmath=True)\n",
    "def dRelu(x: np.ndarray) -> np.ndarray:\n",
    "    return 1 * (x > 0)\n",
    "\n",
    "\n",
    "@njit(fastmath=True)\n",
    "def sigmoid(x: np.ndarray) -> np.ndarray:\n",
    "    return 1/(1+np.exp(-x))\n",
    "\n",
    "\n",
    "@njit(fastmath=True)\n",
    "def dSigmoid(x: np.ndarray) -> np.ndarray:\n",
    "    y = 1/(1+np.exp(-x))\n",
    "    return y*(1-y)\n",
    "\n",
    "\n",
    "@njit(fastmath=True)\n",
    "def softmax(x: np.ndarray) -> float:\n",
    "    y = np.exp(x)\n",
    "    return y/np.sum(y)"
   ]
  },
  {
   "cell_type": "markdown",
   "metadata": {},
   "source": [
    "### Define model"
   ]
  },
  {
   "cell_type": "code",
   "execution_count": 6,
   "metadata": {},
   "outputs": [],
   "source": [
    "@njit(fastmath=True)\n",
    "def grads(xBatch: np.ndarray, yBatch: np.ndarray, Wh: np.ndarray, w: np.ndarray, Bh: np.ndarray, b: np.ndarray) -> tuple[np.ndarray]:\n",
    "    n = xBatch.shape[0]\n",
    "\n",
    "    dWh = np.zeros(Wh.shape)\n",
    "    dw = np.zeros(w.shape)\n",
    "    \n",
    "    dBh = np.zeros(Bh.shape)\n",
    "    db = np.zeros(b.shape)\n",
    "    \n",
    "    for i in prange(n):\n",
    "        Uh = xBatch[i] @ Wh + Bh\n",
    "        h = relu(Uh)\n",
    "        y = softmax(h @ w + b)\n",
    "\n",
    "        dw += np.outer(h, y - yBatch[i])\n",
    "        db += y - yBatch[i]\n",
    "        \n",
    "        dWh += np.outer(xBatch[i] ,(y - yBatch[i]) @ w.T * dRelu(Uh))\n",
    "        dBh += (y - yBatch[i]) @ w.T * dRelu(Uh)\n",
    "    \n",
    "    return (dWh, dw, dBh, db)\n",
    "\n",
    "class Perceptron:\n",
    "    def __init__(self, nIn: int, nHidden: int, nOut: int) -> None:\n",
    "        self.nIn = nIn\n",
    "        self.nHidden = nHidden\n",
    "        self.nOut = nOut\n",
    "        \n",
    "        self.Wh: np.ndarray = np.random.uniform(-1, 1, (nIn, nHidden))\n",
    "        self.w: np.ndarray = np.random.uniform(-1, 1, (nHidden, nOut))\n",
    "        \n",
    "        self.Bh: np.ndarray = np.zeros((nHidden))\n",
    "        self.b: np.ndarray = np.zeros((nOut))\n",
    "\n",
    "    def predict(self, x:np.ndarray) -> np.ndarray:\n",
    "        h = relu(x @ self.Wh + self.Bh)\n",
    "        return softmax(h @ self.w + self.b)\n",
    "\n",
    "    def train(self, xTrain: np.ndarray, yTrain: np.ndarray, lr, batch_size, max_epoch) -> None:\n",
    "        n = xTrain.shape[0]\n",
    "\n",
    "        for epoch in range(max_epoch):\n",
    "            idxs = np.random.permutation(n)\n",
    "\n",
    "            for i in range(n//batch_size):\n",
    "                ibegin, iend = i*batch_size, min((i+1)*batch_size, n-1)\n",
    "                batch_idxs = idxs[ibegin:iend]\n",
    "\n",
    "                dWh, dw, dBh, db = grads(xTrain[batch_idxs], yTrain[batch_idxs], self.Wh, self.w, self.Bh, self.b)\n",
    "\n",
    "                self.Wh -= lr*dWh\n",
    "                self.w -= lr*dw\n",
    "\n",
    "                self.Bh -= lr*dBh\n",
    "                self.b -= lr*db\n",
    "\n",
    "    def loss(self, x: np.ndarray, y: np.ndarray) -> float:        \n",
    "        ypred = np.array([self.predict(xi) for xi in x])\n",
    "        h = -np.mean(y*np.log(ypred), axis=1)\n",
    "        return np.mean(h)"
   ]
  },
  {
   "cell_type": "markdown",
   "metadata": {},
   "source": [
    "### Create and train model"
   ]
  },
  {
   "cell_type": "code",
   "execution_count": 7,
   "metadata": {},
   "outputs": [
    {
     "name": "stdout",
     "output_type": "stream",
     "text": [
      "untrained loss:  0.536\n",
      "trained loss:  0.0\n",
      "test set accuracy: 100.0%\n"
     ]
    }
   ],
   "source": [
    "nIn = 15\n",
    "nHidden = 15\n",
    "nOut = 10\n",
    "\n",
    "learning_rate = 1e-2\n",
    "batch_size = 8\n",
    "max_epoch = 5000\n",
    "\n",
    "model = Perceptron(nIn, nHidden, nOut)\n",
    "\n",
    "print('untrained loss: ', model.loss(x_test, y_test).round(3))\n",
    "\n",
    "model.train(\n",
    "    x_tarin,\n",
    "    y_train,\n",
    "    learning_rate,\n",
    "    batch_size,\n",
    "    max_epoch\n",
    ")\n",
    "\n",
    "print('trained loss: ', model.loss(x_test, y_test).round(3))\n",
    "\n",
    "TP_count = 0\n",
    "for x, y in zip(x_test, y_test):\n",
    "    yPred = model.predict(x)\n",
    "    TP_count += 1 if np.argmax(y) == np.argmax(yPred) else 0\n",
    "\n",
    "accuracy = TP_count / x_test.shape[0]\n",
    "print(f\"test set accuracy: {round(accuracy*100, 2)}%\")"
   ]
  },
  {
   "cell_type": "markdown",
   "metadata": {},
   "source": [
    "### Test model on big number of noised samples"
   ]
  },
  {
   "cell_type": "code",
   "execution_count": 8,
   "metadata": {},
   "outputs": [
    {
     "name": "stdout",
     "output_type": "stream",
     "text": [
      "accuracy: 99.45% (19891 of 20000)\n"
     ]
    }
   ],
   "source": [
    "n_samples = 20000\n",
    "noise_size = 0.5\n",
    "\n",
    "TP_count = 0\n",
    "\n",
    "for i in range(n_samples):\n",
    "    j = i%10\n",
    "    x = nums_mtrx[j] + np.random.uniform(0, noise_size, 15)\n",
    "    yPred = model.predict(x)\n",
    "    TP_count += 1 if j == np.argmax(yPred) else 0\n",
    "\n",
    "print(f\"accuracy: {round(TP_count/n_samples*100, 2)}% ({TP_count} of {n_samples})\")"
   ]
  },
  {
   "cell_type": "markdown",
   "metadata": {},
   "source": [
    "### Visualize model predictions"
   ]
  },
  {
   "cell_type": "code",
   "execution_count": 9,
   "metadata": {},
   "outputs": [
    {
     "data": {
      "image/png": "[encoded data removed]",
      "text/plain": [
       "<Figure size 1500x500 with 10 Axes>"
      ]
     },
     "metadata": {},
     "output_type": "display_data"
    }
   ],
   "source": [
    "noise_size = 0.75\n",
    "x_noised = nums_mtrx + np.random.uniform(0, noise_size, 15)\n",
    "\n",
    "yPred = list([model.predict(xi) for xi in x_noised])\n",
    "\n",
    "fig, axes = plt.subplots(nrows=1, ncols=10)\n",
    "\n",
    "fig.set_dpi(100)\n",
    "fig.set_figwidth(15)\n",
    "fig.set_figheight(5)\n",
    "\n",
    "for i, ax in enumerate(axes.ravel()):\n",
    "    ax.imshow(x_noised[i].reshape((5,3)),  cmap='binary_r')\n",
    "    j = np.argmax(yPred[i])\n",
    "    ax.set_title(f\"{j} : {(yPred[i][j]*100).round()}%\")\n",
    "\n",
    "plt.tight_layout()\n",
    "plt.show()"
   ]
  }
 ],
 "metadata": {
  "kernelspec": {
   "display_name": "jupyter-venv",
   "language": "python",
   "name": "python3"
  },
  "language_info": {
   "codemirror_mode": {
    "name": "ipython",
    "version": 3
   },
   "file_extension": ".py",
   "mimetype": "text/x-python",
   "name": "python",
   "nbconvert_exporter": "python",
   "pygments_lexer": "ipython3",
   "version": "3.10.12"
  }
 },
 "nbformat": 4,
 "nbformat_minor": 2
}
