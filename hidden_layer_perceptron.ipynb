{
 "cells": [
  {
   "cell_type": "code",
   "execution_count": 10,
   "metadata": {},
   "outputs": [],
   "source": [
    "from pathlib import Path\n",
    "\n",
    "import numpy as np\n",
    "from numba import njit, prange\n",
    "\n",
    "from matplotlib import pyplot as plt"
   ]
  },
  {
   "cell_type": "markdown",
   "metadata": {},
   "source": [
    "### Load data"
   ]
  },
  {
   "cell_type": "code",
   "execution_count": 11,
   "metadata": {},
   "outputs": [
    {
     "data": {
      "image/png": "[encoded data removed]",
      "text/plain": [
       "<Figure size 1500x750 with 10 Axes>"
      ]
     },
     "metadata": {},
     "output_type": "display_data"
    }
   ],
   "source": [
    "fig, axes = plt.subplots(nrows=1, ncols=10)\n",
    "\n",
    "fig.set_dpi(150)\n",
    "fig.set_figwidth(10)\n",
    "fig.set_figheight(5)\n",
    "\n",
    "data_mtrx = np.loadtxt(Path('/mnt/HDD500GB/Data/development/jupyterLab/data/numbers_7x5.txt'))\n",
    "img_size = 35\n",
    "img_shape = (7, 5)\n",
    "\n",
    "for n, ax in zip(data_mtrx, axes.ravel()):\n",
    "    ax.imshow(n.reshape(img_shape), cmap='binary_r')\n",
    "    ax.set_xticks([])\n",
    "    ax.set_yticks([])\n",
    "\n",
    "plt.tight_layout()\n",
    "plt.show()"
   ]
  },
  {
   "cell_type": "markdown",
   "metadata": {},
   "source": [
    "### Generate dataset"
   ]
  },
  {
   "cell_type": "code",
   "execution_count": 12,
   "metadata": {},
   "outputs": [],
   "source": [
    "def one_hot_encoding(n: int, idx: int) -> np.ndarray:\n",
    "    q = np.zeros(n)\n",
    "    q[idx] = 1.0\n",
    "    return q"
   ]
  },
  {
   "cell_type": "code",
   "execution_count": 13,
   "metadata": {},
   "outputs": [],
   "source": [
    "features = []\n",
    "labels = []\n",
    "\n",
    "for i, reference_sample in enumerate(data_mtrx):\n",
    "    features.append(reference_sample)\n",
    "    labels.append(one_hot_encoding(10, i))\n",
    "\n",
    "    for j in range(9):\n",
    "        noised_sample = reference_sample + np.random.uniform(0.0, 0.25, img_size)\n",
    "        \n",
    "        features.append(noised_sample)\n",
    "        labels.append(one_hot_encoding(10, i))\n",
    "\n",
    "features = np.array(features)\n",
    "labels = np.array(labels)"
   ]
  },
  {
   "cell_type": "markdown",
   "metadata": {},
   "source": [
    "### Split dataset to test and train"
   ]
  },
  {
   "cell_type": "code",
   "execution_count": 14,
   "metadata": {},
   "outputs": [],
   "source": [
    "test_frac = 0.2\n",
    "\n",
    "p = np.arange(10)\n",
    "\n",
    "test_size = int(p.size * test_frac)\n",
    "train_size = int(p.size * (1 - test_frac))\n",
    "\n",
    "idx_test = np.ravel([(p[0:test_size] + i * 10) for i in range(10)])\n",
    "idx_train = np.ravel([(p[test_size:p.size] + i * 10) for i in range(10)])\n",
    "\n",
    "x_test = np.array(features[idx_test])\n",
    "y_test = np.array(labels[idx_test])\n",
    "\n",
    "x_train = np.array(features[idx_train])\n",
    "y_train = np.array(labels[idx_train])"
   ]
  },
  {
   "cell_type": "markdown",
   "metadata": {},
   "source": [
    "### Define activation functions"
   ]
  },
  {
   "cell_type": "code",
   "execution_count": 15,
   "metadata": {},
   "outputs": [],
   "source": [
    "@njit(fastmath=True)\n",
    "def ReLU(x: np.ndarray) -> np.ndarray:\n",
    "    return np.maximum(np.zeros(x.shape), x)\n",
    "\n",
    "\n",
    "@njit(fastmath=True)\n",
    "def dReLU(x: np.ndarray) -> np.ndarray:\n",
    "    return 1 * (x > 0)\n",
    "\n",
    "\n",
    "@njit(fastmath=True)\n",
    "def sigmoid(x: np.ndarray) -> np.ndarray:\n",
    "    return 1 / (1 + np.exp(-x))\n",
    "\n",
    "\n",
    "@njit(fastmath=True)\n",
    "def dSigmoid(x: np.ndarray) -> np.ndarray:\n",
    "    y = 1 / (1 + np.exp(-x))\n",
    "    return y * (1 - y)\n",
    "\n",
    "\n",
    "@njit(fastmath=True)\n",
    "def softmax(x: np.ndarray) -> float:\n",
    "    y = np.exp(x)\n",
    "    return y / np.sum(y)"
   ]
  },
  {
   "cell_type": "markdown",
   "metadata": {},
   "source": [
    "### Define model"
   ]
  },
  {
   "cell_type": "code",
   "execution_count": 47,
   "metadata": {},
   "outputs": [],
   "source": [
    "@njit(fastmath=True)\n",
    "def grads(xBatch: np.ndarray, yBatch: np.ndarray, V: np.ndarray, c: np.ndarray, W: np.ndarray, b: np.ndarray) -> tuple[np.ndarray]:\n",
    "    dV = np.zeros(V.shape)\n",
    "    dc = np.zeros(c.shape)\n",
    "\n",
    "    dW = np.zeros(W.shape)\n",
    "    db = np.zeros(b.shape)\n",
    "\n",
    "    for i in prange(xBatch.shape[0]):\n",
    "        u = V @ xBatch[i] + c\n",
    "        h = sigmoid(u)\n",
    "        y = softmax(W @ h + b)\n",
    "\n",
    "        dLdh = W.T @ (y - yBatch[i]) * dSigmoid(u)\n",
    "\n",
    "        dV += np.outer(dLdh, xBatch[i])\n",
    "        dc += dLdh\n",
    "\n",
    "        dW += np.outer(y - yBatch[i], h)\n",
    "        db += y - yBatch[i]\n",
    "\n",
    "    return (dV, dc, dW, db)\n",
    "\n",
    "\n",
    "class MultiLayerPeceptron:\n",
    "    def __init__(self, nIn: int, nH: int, nOut: int) -> None:\n",
    "        self.nIn = nIn\n",
    "        self.nH = nH\n",
    "        self.nOut = nOut\n",
    "\n",
    "        self.V: np.ndarray = np.random.uniform(-1, 1, (nH, nIn))\n",
    "        self.c: np.ndarray = np.zeros(nH)\n",
    "\n",
    "        self.W: np.ndarray = np.random.uniform(-1, 1, (nOut, nH))\n",
    "        self.b: np.ndarray = np.zeros(nOut)\n",
    "\n",
    "    def predict(self, x: np.ndarray) -> np.ndarray:\n",
    "        h = ReLU(self.V @ x + self.c)\n",
    "        return softmax(self.W @ h + self.b)\n",
    "\n",
    "    def loss(self, x: np.ndarray, y: np.ndarray) -> float:\n",
    "        ypred = np.array([self.predict(xi) for xi in x])\n",
    "        h = -np.mean(y * np.log(ypred), axis=1)\n",
    "        return np.mean(h)\n",
    "\n",
    "    def train(self, xTrain: np.ndarray, yTrain: np.ndarray, lr, batch_size, max_epoch) -> None:\n",
    "        n = xTrain.shape[0]\n",
    "\n",
    "        for epoch in range(max_epoch):\n",
    "            idxs = np.random.permutation(n)\n",
    "\n",
    "            for i in range(n // batch_size):\n",
    "                ibegin = i * batch_size\n",
    "                iend = min((i + 1) * batch_size, n-1)\n",
    "                batch_idxs = idxs[ibegin:iend]\n",
    "\n",
    "                dV, dc, dW, db = grads(\n",
    "                    xTrain[batch_idxs],\n",
    "                    yTrain[batch_idxs],\n",
    "                    self.V,\n",
    "                    self.c,\n",
    "                    self.W,\n",
    "                    self.b\n",
    "                )\n",
    "\n",
    "                self.V -= lr * dV\n",
    "                self.c -= lr * dc\n",
    "\n",
    "                self.W -= lr * dW\n",
    "                self.b -= lr * db"
   ]
  },
  {
   "cell_type": "markdown",
   "metadata": {},
   "source": [
    "### Create and train model"
   ]
  },
  {
   "cell_type": "code",
   "execution_count": 48,
   "metadata": {},
   "outputs": [
    {
     "name": "stdout",
     "output_type": "stream",
     "text": [
      "untrained loss:  0.491\n",
      "trained loss:  0.003\n",
      "test set accuracy: 100.0%\n"
     ]
    }
   ],
   "source": [
    "nIn = 35\n",
    "nH = 10\n",
    "nOut = 10\n",
    "\n",
    "learning_rate = 1e-2\n",
    "batch_size = 8\n",
    "max_epoch = 256\n",
    "\n",
    "model = MultiLayerPeceptron(nIn, nH, nOut)\n",
    "\n",
    "print('untrained loss: ', model.loss(x_test, y_test).round(3))\n",
    "\n",
    "model.train(\n",
    "    x_train,\n",
    "    y_train,\n",
    "    learning_rate,\n",
    "    batch_size,\n",
    "    max_epoch\n",
    ")\n",
    "\n",
    "print('trained loss: ', model.loss(x_test, y_test).round(3))\n",
    "\n",
    "true_pos_count = 0\n",
    "for x, y in zip(x_test, y_test):\n",
    "    y_pred = model.predict(x)\n",
    "    true_pos_count += 1 if np.argmax(y) == np.argmax(y_pred) else 0\n",
    "\n",
    "accuracy = true_pos_count / x_test.shape[0]\n",
    "print(f\"test set accuracy: {round(accuracy * 100, 2)}%\")"
   ]
  },
  {
   "cell_type": "markdown",
   "metadata": {},
   "source": [
    "### Test model on big number of noised samples"
   ]
  },
  {
   "cell_type": "code",
   "execution_count": 49,
   "metadata": {},
   "outputs": [
    {
     "name": "stdout",
     "output_type": "stream",
     "text": [
      "accuracy: 81.63% (8163 of 10000)\n"
     ]
    }
   ],
   "source": [
    "n_samples = 10000\n",
    "noise_amplitude = 1.0\n",
    "\n",
    "true_pos_count = 0\n",
    "\n",
    "for i in range(n_samples):\n",
    "    j = i % 10\n",
    "    x = data_mtrx[j] + np.random.uniform(0, noise_amplitude, img_size)\n",
    "    y_pred = model.predict(x)\n",
    "    true_pos_count += 1 if j == np.argmax(y_pred) else 0\n",
    "\n",
    "print(f\"accuracy: {round(true_pos_count / n_samples * 100, 2)}% ({true_pos_count} of {n_samples})\")"
   ]
  },
  {
   "cell_type": "markdown",
   "metadata": {},
   "source": [
    "### Visualize model predictions"
   ]
  },
  {
   "cell_type": "code",
   "execution_count": 50,
   "metadata": {},
   "outputs": [
    {
     "data": {
      "image/png": "[encoded data removed]",
      "text/plain": [
       "<Figure size 1500x500 with 10 Axes>"
      ]
     },
     "metadata": {},
     "output_type": "display_data"
    }
   ],
   "source": [
    "noise_amplitude = 1.0\n",
    "x_noised = data_mtrx + np.random.uniform(0, noise_amplitude, img_size)\n",
    "\n",
    "y_pred = list([model.predict(xi) for xi in x_noised])\n",
    "\n",
    "fig, axes = plt.subplots(nrows=1, ncols=10)\n",
    "\n",
    "fig.set_dpi(100)\n",
    "fig.set_figwidth(15)\n",
    "fig.set_figheight(5)\n",
    "\n",
    "for i, ax in enumerate(axes.ravel()):\n",
    "    j = np.argmax(y_pred[i])\n",
    "    ax.imshow(x_noised[i].reshape(img_shape),  cmap='binary_r')\n",
    "    ax.set_title(f\"{j} : {(y_pred[i][j] * 100).round()}%\")\n",
    "    ax.set_xticks([])\n",
    "    ax.set_yticks([])\n",
    "\n",
    "plt.tight_layout()\n",
    "plt.show()"
   ]
  }
 ],
 "metadata": {
  "kernelspec": {
   "display_name": "jupyter-venv",
   "language": "python",
   "name": "python3"
  },
  "language_info": {
   "codemirror_mode": {
    "name": "ipython",
    "version": 3
   },
   "file_extension": ".py",
   "mimetype": "text/x-python",
   "name": "python",
   "nbconvert_exporter": "python",
   "pygments_lexer": "ipython3",
   "version": "3.10.12"
  }
 },
 "nbformat": 4,
 "nbformat_minor": 2
}
