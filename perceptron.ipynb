{
 "cells": [
  {
   "cell_type": "code",
   "execution_count": 14,
   "metadata": {},
   "outputs": [],
   "source": [
    "from pathlib import Path\n",
    "\n",
    "import numpy as np\n",
    "import pandas as pd\n",
    "\n",
    "from numba import njit\n",
    "\n",
    "from matplotlib import pyplot as plt"
   ]
  },
  {
   "cell_type": "markdown",
   "metadata": {},
   "source": [
    "### Load data"
   ]
  },
  {
   "cell_type": "code",
   "execution_count": 15,
   "metadata": {},
   "outputs": [
    {
     "data": {
      "image/png": "[encoded data removed]",
      "text/plain": [
       "<Figure size 1500x750 with 10 Axes>"
      ]
     },
     "metadata": {},
     "output_type": "display_data"
    }
   ],
   "source": [
    "fig, axes = plt.subplots(nrows=1, ncols=10)\n",
    "\n",
    "fig.set_dpi(150)\n",
    "fig.set_figwidth(10)\n",
    "fig.set_figheight(5)\n",
    "\n",
    "nums_mtrx = np.loadtxt(Path('data', 'numbers_7x5.txt'))\n",
    "\n",
    "img_shape = (7, 5)\n",
    "img_size = 35\n",
    "\n",
    "for n, ax in zip(nums_mtrx, axes.ravel()):\n",
    "    ax.imshow(n.reshape(img_shape), cmap='binary_r')\n",
    "\n",
    "plt.tight_layout()\n",
    "plt.show()"
   ]
  },
  {
   "cell_type": "markdown",
   "metadata": {},
   "source": [
    "### Generate dataset"
   ]
  },
  {
   "cell_type": "code",
   "execution_count": 16,
   "metadata": {},
   "outputs": [],
   "source": [
    "cells_columns = [f'c{n}' for n in range(img_size)]\n",
    "classes = ['zero', 'one', 'two', 'three', 'four', 'five', 'six', 'seven', 'eight', 'nine']\n",
    "\n",
    "df = pd.DataFrame(columns=cells_columns + ['class'])\n",
    "\n",
    "for i in range(10):\n",
    "    new_row = dict(zip(cells_columns, nums_mtrx[i]))\n",
    "    new_row['class'] = classes[i]\n",
    "\n",
    "    df.loc[df.index.size] = new_row\n",
    "\n",
    "    for j in range(9):\n",
    "        noised_num = nums_mtrx[i] + np.random.uniform(0, 0.5, img_size)\n",
    "\n",
    "        new_row = dict(zip(cells_columns, noised_num))\n",
    "        new_row['class'] = classes[i]\n",
    "\n",
    "        df.loc[df.index.size] = new_row\n",
    "\n",
    "for name in df['class'].unique():\n",
    "    df[f'{name}_label'] = df['class'].map(lambda x: 1 if x == name else 0)"
   ]
  },
  {
   "cell_type": "markdown",
   "metadata": {},
   "source": [
    "### Split dataset to test and train"
   ]
  },
  {
   "cell_type": "code",
   "execution_count": 17,
   "metadata": {},
   "outputs": [],
   "source": [
    "test_frac = 0.1\n",
    "\n",
    "p = np.arange(10)\n",
    "\n",
    "test_size = int(p.size * test_frac)\n",
    "train_size = int(p.size * (1 - test_frac))\n",
    "\n",
    "idx_test = np.ravel([(p[0:test_size] + i * 10) for i in range(10)])\n",
    "idx_train = np.ravel([(p[test_size:p.size] + i * 10) for i in range(10)])\n",
    "\n",
    "features_columns = cells_columns\n",
    "label_columns = [f\"{name}_label\" for name in classes]\n",
    "\n",
    "x_test = np.array(df.iloc[idx_test][features_columns])\n",
    "y_test = np.array(df.iloc[idx_test][label_columns])\n",
    "\n",
    "x_train = np.array(df.iloc[idx_train][features_columns])\n",
    "y_train = np.array(df.iloc[idx_train][label_columns])"
   ]
  },
  {
   "cell_type": "markdown",
   "metadata": {},
   "source": [
    "### Define model"
   ]
  },
  {
   "cell_type": "code",
   "execution_count": 18,
   "metadata": {},
   "outputs": [],
   "source": [
    "@njit(fastmath=True)\n",
    "def softmax(x: np.ndarray) -> np.ndarray:\n",
    "    y = np.exp(x)\n",
    "    return y / np.sum(y)\n",
    "\n",
    "\n",
    "@njit(fastmath=True)\n",
    "def grads(x_batch: np.ndarray, y_batch: np.ndarray, w: np.ndarray, b: np.ndarray) -> tuple[np.ndarray]:\n",
    "    dw = np.zeros(w.shape)\n",
    "    db = np.zeros(b.shape)\n",
    "\n",
    "    for i in range(x_batch.shape[0]):\n",
    "        y = softmax(w @ x_batch[i] + b)\n",
    "\n",
    "        dLdy = y - y_batch[i]\n",
    "        \n",
    "        dw += np.outer(dLdy, x_batch[i])\n",
    "        db += dLdy\n",
    "\n",
    "    return (dw, db)\n",
    "\n",
    "\n",
    "class Perceptron:\n",
    "    def __init__(self, nIn: int, nOut: int) -> None:\n",
    "        self.nIn = nIn\n",
    "        self.nOut = nOut\n",
    "\n",
    "        self.w: np.ndarray = np.random.uniform(-1, 1, (nOut, nIn))\n",
    "        self.b: np.ndarray = np.zeros(nOut)\n",
    "\n",
    "    def predict(self, x: np.ndarray) -> np.ndarray:\n",
    "        return softmax(self.w @ x + self.b)\n",
    "\n",
    "    def train(self, x_train: np.ndarray, y_train: np.ndarray, lr: float, batch_size: int, max_epoch: int) -> None:\n",
    "        n = x_train.shape[0]\n",
    "\n",
    "        for epoch in range(max_epoch):\n",
    "            idxs = np.random.permutation(n)\n",
    "\n",
    "            for i in range(n // batch_size):\n",
    "                ibegin = i * batch_size\n",
    "                iend = min((i + 1) * batch_size, n - 1)\n",
    "                batch_idxs = idxs[ibegin:iend]\n",
    "\n",
    "                dw, db = grads(x_train[batch_idxs], y_train[batch_idxs], self.w, self.b)\n",
    "\n",
    "                self.w -= lr * dw\n",
    "                self.b -= lr * db\n",
    "\n",
    "    def loss(self, x: np.ndarray, y: np.ndarray) -> float:\n",
    "        y_pred = np.array([self.predict(xi) for xi in x])\n",
    "        h = -np.mean(y * np.log(y_pred), axis=1)\n",
    "        return np.mean(h)"
   ]
  },
  {
   "cell_type": "markdown",
   "metadata": {},
   "source": [
    "### Create and train model"
   ]
  },
  {
   "cell_type": "code",
   "execution_count": 22,
   "metadata": {},
   "outputs": [
    {
     "name": "stdout",
     "output_type": "stream",
     "text": [
      "untrained loss:  0.29953\n",
      "trained loss:  0.00134\n",
      "test set accuracy: 100.0%\n"
     ]
    }
   ],
   "source": [
    "nIn = 35\n",
    "nOut = 10\n",
    "\n",
    "learning_rate = 1e-1\n",
    "batch_size = 8\n",
    "max_epoch = 100\n",
    "\n",
    "model = Perceptron(nIn, nOut)\n",
    "\n",
    "print('untrained loss: ', model.loss(x_test, y_test).round(5))\n",
    "\n",
    "model.train(\n",
    "    x_train,\n",
    "    y_train,\n",
    "    learning_rate,\n",
    "    batch_size,\n",
    "    max_epoch\n",
    ")\n",
    "\n",
    "print('trained loss: ', model.loss(x_test, y_test).round(5))\n",
    "\n",
    "true_pos_count = 0\n",
    "\n",
    "for x, y in zip(x_test, y_test):\n",
    "    y_pred = model.predict(x)\n",
    "    true_pos_count += 1 if np.argmax(y_pred) == np.argmax(y) else 0\n",
    "\n",
    "accuracy = true_pos_count / x_test.shape[0]\n",
    "print(f\"test set accuracy: {round(accuracy * 100, 2)}%\")"
   ]
  },
  {
   "cell_type": "markdown",
   "metadata": {},
   "source": [
    "### Test model on big number of noised samples"
   ]
  },
  {
   "cell_type": "code",
   "execution_count": 23,
   "metadata": {},
   "outputs": [
    {
     "name": "stdout",
     "output_type": "stream",
     "text": [
      "accuracy: 96.65% (9665 of 10000)\n"
     ]
    }
   ],
   "source": [
    "n_samples = 10000\n",
    "noise_size = 1.0\n",
    "\n",
    "true_pos_count = 0\n",
    "\n",
    "for i in range(n_samples):\n",
    "    j = i % 10\n",
    "    x = nums_mtrx[j] + np.random.uniform(0, noise_size, img_size)\n",
    "    y_pred = model.predict(x)\n",
    "    true_pos_count += 1 if j == np.argmax(y_pred) else 0\n",
    "\n",
    "accuracy = true_pos_count / x_test.shape[0]\n",
    "\n",
    "print(f\"accuracy: {round(accuracy * 100, 2)}% ({true_pos_count} of {n_samples})\")"
   ]
  },
  {
   "cell_type": "markdown",
   "metadata": {},
   "source": [
    "### Visualize model predictions"
   ]
  },
  {
   "cell_type": "code",
   "execution_count": 24,
   "metadata": {},
   "outputs": [
    {
     "data": {
      "image/png": "[encoded data removed]",
      "text/plain": [
       "<Figure size 1500x500 with 10 Axes>"
      ]
     },
     "metadata": {},
     "output_type": "display_data"
    }
   ],
   "source": [
    "noise_size = 1.0\n",
    "x_noised = nums_mtrx + np.random.uniform(0, noise_size, img_size)\n",
    "\n",
    "y_pred = list([model.predict(xi) for xi in x_noised])\n",
    "\n",
    "fig, axes = plt.subplots(nrows=1, ncols=10)\n",
    "\n",
    "fig.set_dpi(100)\n",
    "fig.set_figwidth(15)\n",
    "fig.set_figheight(5)\n",
    "\n",
    "for i, ax in enumerate(axes.ravel()):\n",
    "    ax.imshow(x_noised[i].reshape(img_shape),  cmap='binary_r')\n",
    "    j = np.argmax(y_pred[i])\n",
    "    ax.set_title(f\"{j} : {(y_pred[i][j] * 100).round()}%\")\n",
    "\n",
    "plt.tight_layout()\n",
    "plt.show()"
   ]
  }
 ],
 "metadata": {
  "kernelspec": {
   "display_name": "jupyter-venv",
   "language": "python",
   "name": "python3"
  },
  "language_info": {
   "codemirror_mode": {
    "name": "ipython",
    "version": 3
   },
   "file_extension": ".py",
   "mimetype": "text/x-python",
   "name": "python",
   "nbconvert_exporter": "python",
   "pygments_lexer": "ipython3",
   "version": "3.10.12"
  }
 },
 "nbformat": 4,
 "nbformat_minor": 2
}
