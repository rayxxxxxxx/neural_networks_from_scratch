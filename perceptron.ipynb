{
 "cells": [
  {
   "cell_type": "code",
   "execution_count": 150,
   "metadata": {},
   "outputs": [],
   "source": [
    "from pathlib import Path\n",
    "import numpy as np"
   ]
  },
  {
   "cell_type": "markdown",
   "metadata": {},
   "source": [
    "### Load data"
   ]
  },
  {
   "cell_type": "code",
   "execution_count": 151,
   "metadata": {},
   "outputs": [],
   "source": [
    "img_size = 784\n",
    "img_shape = (28, 28)\n",
    "\n",
    "train_data = np.loadtxt(Path('D:/Development/Data/datasets/csv/mnist_train_small.csv'), delimiter=',')\n",
    "test_data = np.loadtxt(Path('D:/Development/Data/datasets/csv/mnist_test.csv'), delimiter=',')"
   ]
  },
  {
   "cell_type": "markdown",
   "metadata": {},
   "source": [
    "### Create dataset"
   ]
  },
  {
   "cell_type": "code",
   "execution_count": 152,
   "metadata": {},
   "outputs": [],
   "source": [
    "def onehot(n: int, i: int) -> np.ndarray:\n",
    "    v = np.zeros(n)\n",
    "    v[i] = 1.0\n",
    "    return v"
   ]
  },
  {
   "cell_type": "code",
   "execution_count": 153,
   "metadata": {},
   "outputs": [],
   "source": [
    "x_train = train_data[:,1:] / 255.0\n",
    "y_train = np.array([onehot(10, int(i)) for i in train_data[:,0]])\n",
    "\n",
    "x_test = test_data[:,1:] / 255.0\n",
    "y_test = np.array([onehot(10, int(i)) for i in test_data[:,0]])"
   ]
  },
  {
   "cell_type": "markdown",
   "metadata": {},
   "source": [
    "### Define functions and model"
   ]
  },
  {
   "cell_type": "code",
   "execution_count": null,
   "metadata": {},
   "outputs": [],
   "source": [
    "def softmax(x: np.ndarray, axis=0, keepdims=True) -> np.ndarray:\n",
    "    y = np.exp(x)\n",
    "    return y / np.sum(y, axis=axis, keepdims=keepdims)\n",
    "\n",
    "def cross_entropy(p: np.ndarray, q: np.ndarray) -> float:\n",
    "    return -np.sum(p * np.log(q))"
   ]
  },
  {
   "cell_type": "code",
   "execution_count": null,
   "metadata": {},
   "outputs": [],
   "source": [
    "class Perceptron:\n",
    "    def __init__(self, n_in: int, n_out: int) -> None:\n",
    "        self.W: np.ndarray = np.random.uniform(-0.01, 0.01, (n_in, n_out))\n",
    "        self.b: np.ndarray = np.zeros(n_out)\n",
    "    \n",
    "    def __call__(self, x: np.ndarray) -> np.ndarray:\n",
    "        if x.ndim == 1:\n",
    "            x = x.reshape((1, x.size))\n",
    "        p = softmax(x @ self.W + self.b, axis=1)\n",
    "        return p.ravel() if len(p) == 1 else p\n",
    "\n",
    "    def save(self, fp: Path) -> None:\n",
    "        np.savez(fp, w=self.W, b=self.b)\n",
    "\n",
    "    def load(self, fp: Path) -> None:\n",
    "        params = np.load(fp)\n",
    "        self.W, self.b = params['w'], params['b']\n",
    "\n",
    "def loss(model: Perceptron, X: np.ndarray, P: np.ndarray) -> float:\n",
    "    return np.mean([cross_entropy(p,q) for (p,q) in zip(P,model(X))])\n",
    "\n",
    "def accuracy(model: Perceptron, X: np.ndarray, P: np.ndarray) -> float:\n",
    "    fn = lambda a, b: 1 if np.argmax(a) == np.argmax(b) else 0\n",
    "    return np.mean([fn(p,q) for (p,q) in zip(P,model(X))])"
   ]
  },
  {
   "cell_type": "markdown",
   "metadata": {},
   "source": [
    "### SGD Implementation"
   ]
  },
  {
   "cell_type": "code",
   "execution_count": null,
   "metadata": {},
   "outputs": [],
   "source": [
    "def train(model: Perceptron, X: np.ndarray, Y: np.ndarray, lr, batch_size, max_epoch) -> None:\n",
    "    n_samples = len(x_test)\n",
    "    n_batches = n_samples // batch_size\n",
    "\n",
    "    for epoch in range(max_epoch):\n",
    "        idxs = np.random.permutation(n_samples)\n",
    "        batches = np.array_split(idxs, n_batches)\n",
    "\n",
    "        for batch in batches:\n",
    "            dLdy = model(X[batch]) - Y[batch]\n",
    "            dW = np.mean(np.einsum('ij,ik->ijk', X[batch], dLdy), axis=0)\n",
    "            db = np.mean(dLdy, axis=0)\n",
    "            \n",
    "            model.W -= lr * dW\n",
    "            model.b -= lr * db"
   ]
  },
  {
   "cell_type": "markdown",
   "metadata": {},
   "source": [
    "### Create, train and test model"
   ]
  },
  {
   "cell_type": "code",
   "execution_count": null,
   "metadata": {},
   "outputs": [
    {
     "name": "stdout",
     "output_type": "stream",
     "text": [
      "untrained loss: 2.307\n",
      "trained loss: 0.337\n",
      "test set accuracy: 90.76%\n"
     ]
    }
   ],
   "source": [
    "n_in = 784\n",
    "n_out = 10\n",
    "\n",
    "learning_rate = 0.1\n",
    "batch_size = 64\n",
    "max_epoch = 4\n",
    "\n",
    "model = Perceptron(n_in, n_out)\n",
    "\n",
    "print(f\"untrained loss: {round(loss(model, x_test, y_test), 3)}\")\n",
    "train(model, x_train, y_train, learning_rate, batch_size, max_epoch)\n",
    "print(f\"trained loss: {round(loss(model, x_test, y_test), 3)}\")\n",
    "\n",
    "model_accuracy = accuracy(model, x_test, y_test)\n",
    "print(f\"test set accuracy: {round(model_accuracy * 100, 2)}%\")"
   ]
  },
  {
   "cell_type": "markdown",
   "metadata": {},
   "source": [
    "### Save, load and test model"
   ]
  },
  {
   "cell_type": "code",
   "execution_count": 158,
   "metadata": {},
   "outputs": [],
   "source": [
    "fp = Path('D:/Development/Data/tmp/parameters.npz')\n",
    "model.save(fp)"
   ]
  },
  {
   "cell_type": "code",
   "execution_count": 159,
   "metadata": {},
   "outputs": [],
   "source": [
    "model = Perceptron(n_in, n_out)\n",
    "model.load(fp)"
   ]
  },
  {
   "cell_type": "code",
   "execution_count": 160,
   "metadata": {},
   "outputs": [
    {
     "name": "stdout",
     "output_type": "stream",
     "text": [
      "loss: 0.366\n",
      "accuracy: 90.22%\n"
     ]
    }
   ],
   "source": [
    "model_loss = loss(model, x_test, y_test)\n",
    "model_accuracy = accuracy(model, x_test, y_test)\n",
    "\n",
    "print(f\"loss: {round(model_loss, 3)}\")\n",
    "print(f\"accuracy: {round(model_accuracy * 100, 2)}%\")"
   ]
  }
 ],
 "metadata": {
  "kernelspec": {
   "display_name": ".venv",
   "language": "python",
   "name": "python3"
  },
  "language_info": {
   "codemirror_mode": {
    "name": "ipython",
    "version": 3
   },
   "file_extension": ".py",
   "mimetype": "text/x-python",
   "name": "python",
   "nbconvert_exporter": "python",
   "pygments_lexer": "ipython3",
   "version": "3.12.8"
  }
 },
 "nbformat": 4,
 "nbformat_minor": 4
}
