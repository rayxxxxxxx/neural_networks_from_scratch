{
 "cells": [
  {
   "cell_type": "code",
   "execution_count": 1,
   "metadata": {},
   "outputs": [],
   "source": [
    "from pathlib import Path\n",
    "\n",
    "import numpy as np\n",
    "from numba import njit\n",
    "\n",
    "from matplotlib import pyplot as plt"
   ]
  },
  {
   "cell_type": "code",
   "execution_count": 2,
   "metadata": {},
   "outputs": [],
   "source": [
    "def one_hot(n_classes: int, idx: int) -> np.ndarray:\n",
    "    embedding = np.zeros(n_classes)\n",
    "    embedding[idx] = 1.0\n",
    "    return embedding\n",
    "\n",
    "\n",
    "def word2seq(word: str, alphabet: list) -> np.ndarray:\n",
    "    return np.array([one_hot(len(alphabet), alphabet.index(c)) for c in word])\n",
    "\n",
    "\n",
    "def seq2word(seq: np.ndarray, alphabet: list) -> str:\n",
    "    return ''.join([alphabet[np.argmax(V)] for V in seq])"
   ]
  },
  {
   "cell_type": "code",
   "execution_count": 3,
   "metadata": {},
   "outputs": [],
   "source": [
    "alphabet = list('abcdefghijklmnopqrstuvwxyz .,')"
   ]
  },
  {
   "cell_type": "code",
   "execution_count": 4,
   "metadata": {},
   "outputs": [],
   "source": [
    "@njit(fastmath=True)\n",
    "def entropy(p: np.ndarray) -> float:\n",
    "    return -np.sum(p*np.log(p))\n",
    "\n",
    "\n",
    "@njit(fastmath=True)\n",
    "def cross_entropy(p: np.ndarray, q: np.ndarray) -> float:\n",
    "    return -np.sum(p*np.log(q))"
   ]
  },
  {
   "cell_type": "code",
   "execution_count": 5,
   "metadata": {},
   "outputs": [],
   "source": [
    "@njit(fastmath=True)\n",
    "def sigmoid(x: np.ndarray) -> np.ndarray:\n",
    "    return 1 / (1 + np.exp(-x))\n",
    "\n",
    "\n",
    "@njit(fastmath=True)\n",
    "def dsigmoid(x: np.ndarray) -> np.ndarray:\n",
    "    y = 1 / (1 + np.exp(-x))\n",
    "    return y * (1 - y)\n",
    "\n",
    "\n",
    "@njit(fastmath=True)\n",
    "def softmax(x: np.ndarray) -> np.ndarray:\n",
    "    y = np.exp(x)\n",
    "    return y / np.sum(y)"
   ]
  },
  {
   "cell_type": "markdown",
   "metadata": {},
   "source": [
    "### Define model"
   ]
  },
  {
   "cell_type": "code",
   "execution_count": 10,
   "metadata": {},
   "outputs": [],
   "source": [
    "class RNNClassifier:\n",
    "    def __init__(self, n_in: int, n_h: int, n_out: int) -> None:\n",
    "        self.U: np.ndarray = np.random.uniform(-1, 1, (n_h, n_in))\n",
    "        self.V: np.ndarray = np.random.uniform(-1, 1, (n_h, n_h))\n",
    "        self.d: np.ndarray = np.zeros(n_h)\n",
    "\n",
    "        self.W: np.ndarray = np.random.uniform(-1, 1, (n_out, n_h))\n",
    "        self.b: np.ndarray = np.zeros(n_out)\n",
    "    \n",
    "    @property\n",
    "    def parameters(self) -> tuple[np.ndarray]:\n",
    "        return (self.U, self.V, self.d, self.W, self.b)\n",
    "\n",
    "    def forward(self, sequence: np.ndarray) -> np.ndarray:\n",
    "        h: np.ndarray = np.zeros(len(self.V))\n",
    "        for x in sequence:\n",
    "            h = np.tanh(self.U @ x + self.V @ h + self.d)\n",
    "        return softmax(self.W @ h + self.b)\n",
    "\n",
    "    def loss(self, sequences: np.ndarray, y: np.ndarray) -> float:\n",
    "        y_hat = np.array([self.forward(x) for x in sequences])\n",
    "        return np.mean(np.array([cross_entropy(p, q) for (p, q) in zip(y, y_hat)]))"
   ]
  },
  {
   "cell_type": "code",
   "execution_count": 7,
   "metadata": {},
   "outputs": [],
   "source": [
    "@njit(fastmath=True)\n",
    "def grads(parameters: tuple[np.ndarray], x_batch: np.ndarray, y_batch: np.ndarray) -> tuple[np.ndarray]:\n",
    "    U, V, d, W, b = parameters\n",
    "\n",
    "    dU, dV, dW = np.zeros(U.shape), np.zeros(V.shape), np.zeros(W.shape)\n",
    "    dd, db = np.zeros(d.shape), np.zeros(b.shape)\n",
    "\n",
    "    for i in range(len(x_batch)):\n",
    "        pass\n",
    "\n",
    "    return (dU, dV, dd, dW, db)    \n",
    "\n",
    "\n",
    "def train(model: RNNClassifier, x_train: np.ndarray, y_train: np.ndarray, lr, batch_size, max_epoch) -> None:\n",
    "    n = x_train.shape[0]\n",
    "    n_batches = n // batch_size\n",
    "\n",
    "    for epoch in range(max_epoch):\n",
    "        idxs = np.random.permutation(n)\n",
    "\n",
    "        for i in range(n_batches):\n",
    "            ibegin = i * batch_size\n",
    "            iend = min((i + 1) * batch_size, n - 1)\n",
    "            batch_idxs = idxs[ibegin:iend]\n",
    "\n",
    "            dU, dV, dd, dW, db = grads(\n",
    "                model.parameters,\n",
    "                x_train[batch_idxs],\n",
    "                y_train[batch_idxs]\n",
    "            )\n",
    "\n",
    "            model.U -= lr * dU\n",
    "            model.V -= lr * dV\n",
    "            model.d -= lr * dd\n",
    "\n",
    "            model.W -= lr * dW\n",
    "            model.b -= lr * db"
   ]
  },
  {
   "cell_type": "markdown",
   "metadata": {},
   "source": [
    "### Create and train model"
   ]
  },
  {
   "cell_type": "code",
   "execution_count": 14,
   "metadata": {},
   "outputs": [],
   "source": [
    "n_in = len(alphabet)\n",
    "n_h = 64\n",
    "n_out = 2\n",
    "\n",
    "learning_rate = 1e-1\n",
    "batch_size = 8\n",
    "max_epoch = 100\n",
    "\n",
    "model = RNNClassifier(n_in, n_h, n_out)"
   ]
  },
  {
   "cell_type": "code",
   "execution_count": 15,
   "metadata": {},
   "outputs": [
    {
     "name": "stdout",
     "output_type": "stream",
     "text": [
      "[0.004 0.996]\n"
     ]
    }
   ],
   "source": [
    "text = 'the quick brown fox, jumps over the lazy dog'\n",
    "x = word2seq(text, alphabet)\n",
    "y = model.forward(x)\n",
    "print(np.round(y, 3))"
   ]
  }
 ],
 "metadata": {
  "kernelspec": {
   "display_name": ".venv",
   "language": "python",
   "name": "python3"
  },
  "language_info": {
   "codemirror_mode": {
    "name": "ipython",
    "version": 3
   },
   "file_extension": ".py",
   "mimetype": "text/x-python",
   "name": "python",
   "nbconvert_exporter": "python",
   "pygments_lexer": "ipython3",
   "version": "3.12.8"
  }
 },
 "nbformat": 4,
 "nbformat_minor": 4
}
