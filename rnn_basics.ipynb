{
 "cells": [
  {
   "cell_type": "code",
   "execution_count": 102,
   "metadata": {},
   "outputs": [],
   "source": [
    "import string\n",
    "import numpy as np"
   ]
  },
  {
   "cell_type": "code",
   "execution_count": 103,
   "metadata": {},
   "outputs": [],
   "source": [
    "def one_hot(n_classes: int, idx: int) -> np.ndarray:\n",
    "    embedding = np.zeros(n_classes)\n",
    "    embedding[idx] = 1.0\n",
    "    return embedding\n",
    "\n",
    "\n",
    "def word2seq(word: str, alphabet: list) -> np.ndarray:\n",
    "    one_hots = [one_hot(len(alphabet), alphabet.index(c)) for c in word]\n",
    "    return np.array(one_hots)\n",
    "\n",
    "\n",
    "def seq2word(seq: np.ndarray, alphabet: list) -> str:\n",
    "    return ''.join([alphabet[np.argmax(x)] for x in seq])"
   ]
  },
  {
   "cell_type": "code",
   "execution_count": 104,
   "metadata": {},
   "outputs": [
    {
     "name": "stdout",
     "output_type": "stream",
     "text": [
      "95 abcdefghijklmnopqrstuvwxyzABCDEFGHIJKLMNOPQRSTUVWXYZ !\"#$%&'()*+,-./:;<=>?@[\\]^_`{|}~0123456789\n"
     ]
    }
   ],
   "source": [
    "alphabet = string.ascii_letters + ' ' + string.punctuation + string.digits\n",
    "n_symbols = len(alphabet)\n",
    "print(n_symbols, alphabet)"
   ]
  },
  {
   "cell_type": "code",
   "execution_count": 105,
   "metadata": {},
   "outputs": [],
   "source": [
    "def sigmoid(x: np.ndarray) -> np.ndarray:\n",
    "    return 1 / (1 + np.exp(-x))\n",
    "\n",
    "\n",
    "def softmax(x: np.ndarray) -> np.ndarray:\n",
    "    y = np.exp(x)\n",
    "    return y / np.sum(y)"
   ]
  },
  {
   "cell_type": "markdown",
   "metadata": {},
   "source": [
    "### Define model"
   ]
  },
  {
   "cell_type": "code",
   "execution_count": 122,
   "metadata": {},
   "outputs": [],
   "source": [
    "class RNN:\n",
    "    def __init__(self, n_in: int, n_h: int, n_out: int) -> None:\n",
    "        self.U: np.ndarray = np.random.uniform(-1, 1, (n_h, n_in))\n",
    "        self.V: np.ndarray = np.random.uniform(-1, 1, (n_h, n_h))\n",
    "        self.d: np.ndarray = np.zeros(n_h)\n",
    "\n",
    "        self.W: np.ndarray = np.random.uniform(-1, 1, (n_out, n_h))\n",
    "        self.b: np.ndarray = np.zeros(n_out)\n",
    "    \n",
    "    @property\n",
    "    def parameters(self) -> tuple[np.ndarray]:\n",
    "        return (self.U, self.V, self.d, self.W, self.b)\n",
    "    \n",
    "    def many2one(self, sequence: np.ndarray) -> tuple[np.ndarray]:\n",
    "        context: np.ndarray = np.zeros(len(self.V))\n",
    "        for x in sequence:\n",
    "            context = np.tanh(self.U @ x + self.V @ context + self.d)\n",
    "\n",
    "        output = softmax(self.W @ context + self.b)\n",
    "        return (output, context)\n",
    "\n",
    "    def one2many(self, x: np.ndarray, t: int) -> tuple[np.ndarray]:\n",
    "        outputs: np.ndarray = np.zeros((t, len(self.W)))\n",
    "        context = np.tanh(self.U @ x + self.d)\n",
    "\n",
    "        for i in range(t):\n",
    "            outputs[i] = softmax(self.W @ context + self.b)\n",
    "            context = np.tanh(self.U @ outputs[i] + self.V @ context + self.d)\n",
    "\n",
    "        return (outputs, context)\n",
    "\n",
    "    def many2many(self, sequence: np.ndarray, t: int) -> tuple[np.ndarray]:\n",
    "        outputs: np.ndarray = np.zeros((t, len(self.W)))\n",
    "        context: np.ndarray = np.zeros(len(self.V))\n",
    "\n",
    "        for i,x in enumerate(sequence):\n",
    "            context = np.tanh(self.U @ x + self.V @ context + self.d)\n",
    "        \n",
    "        for i in range(t):\n",
    "            outputs[i] = softmax(self.W @ context + self.b)\n",
    "            context = np.tanh(self.U @ x + self.V @ context + self.d)\n",
    "        \n",
    "        return (outputs, context)\n"
   ]
  },
  {
   "cell_type": "markdown",
   "metadata": {},
   "source": [
    "### Create and run model"
   ]
  },
  {
   "cell_type": "code",
   "execution_count": 123,
   "metadata": {},
   "outputs": [],
   "source": [
    "n_in = n_symbols\n",
    "n_h = 32\n",
    "n_out = n_symbols\n",
    "\n",
    "model = RNN(n_in, n_h, n_out)"
   ]
  },
  {
   "cell_type": "code",
   "execution_count": 124,
   "metadata": {},
   "outputs": [
    {
     "name": "stdout",
     "output_type": "stream",
     "text": [
      "U\n"
     ]
    }
   ],
   "source": [
    "text = 'the quick brown fox jumps over the lazy dog'\n",
    "seq = word2seq(text, alphabet)\n",
    "\n",
    "outputs, context = model.many2one(seq)\n",
    "print(alphabet[np.argmax(outputs)])"
   ]
  },
  {
   "cell_type": "code",
   "execution_count": 125,
   "metadata": {},
   "outputs": [
    {
     "name": "stdout",
     "output_type": "stream",
     "text": [
      "[;J&+V/6cN<U4wq S;U}w`w#dU8U#i`a=/cY:cdW<wX^6y@}8Ja|`=B@lm`aE =C\"Ue|  )CYU\"w|6yhWwG~~cBU88{s7:fw72,YU/8e?Jagl9u W;UUid_}FXw%`u+~\n"
     ]
    }
   ],
   "source": [
    "text = 'a'\n",
    "seq = word2seq(text, alphabet)\n",
    "\n",
    "outputs, context = model.one2many(seq[0], 128)\n",
    "print(seq2word(outputs, alphabet))"
   ]
  },
  {
   "cell_type": "code",
   "execution_count": 126,
   "metadata": {},
   "outputs": [
    {
     "name": "stdout",
     "output_type": "stream",
     "text": [
      "UEwiMXJD`a=hi+w`*B7hh8LA!-7r`KY*`c;jUwydH7`.y=}M+&!DB`!,RU\"D`OyCU-J`BL:j~|qMNCUJw| NdUUXJ`pB7x8JBz\"R+wXw^*u,j+wXwp-,}:\"81?>K4!` \n"
     ]
    }
   ],
   "source": [
    "text = 'the quick brown fox jumps over the lazy dog'\n",
    "seq = word2seq(text, alphabet)\n",
    "\n",
    "outputs, context = model.many2many(seq, 128)\n",
    "print(seq2word(outputs, alphabet))"
   ]
  }
 ],
 "metadata": {
  "kernelspec": {
   "display_name": ".venv",
   "language": "python",
   "name": "python3"
  },
  "language_info": {
   "codemirror_mode": {
    "name": "ipython",
    "version": 3
   },
   "file_extension": ".py",
   "mimetype": "text/x-python",
   "name": "python",
   "nbconvert_exporter": "python",
   "pygments_lexer": "ipython3",
   "version": "3.12.8"
  }
 },
 "nbformat": 4,
 "nbformat_minor": 4
}
